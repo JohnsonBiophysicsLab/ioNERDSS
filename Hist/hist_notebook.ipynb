{
 "cells": [
  {
   "cell_type": "code",
   "execution_count": 1,
   "id": "074cf966",
   "metadata": {},
   "outputs": [],
   "source": [
    "import matplotlib.pyplot as plt\n",
    "import numpy as np"
   ]
  },
  {
   "cell_type": "code",
   "execution_count": 2,
   "id": "6d65ed49",
   "metadata": {},
   "outputs": [],
   "source": [
    "def read_file(file_name, speic_name):\n",
    "    hist = []\n",
    "    hist_temp = []\n",
    "    hist_conv = []\n",
    "    hist_count = []\n",
    "    with open(file_name, 'r') as file:\n",
    "        for line in file.readlines():\n",
    "            if line[0:4] == 'Time':\n",
    "                if hist_count != [] and hist_conv != []:\n",
    "                    hist_temp.append(hist_count) \n",
    "                    hist_temp.append(hist_conv) \n",
    "                    hist.append(hist_temp)\n",
    "                hist_count = []\n",
    "                hist_conv = []\n",
    "                hist_temp = []\n",
    "                hist_temp.append(float(line.strip('Time (s): ')))\n",
    "            else:\n",
    "                string = '\t' + str(speic_name) + ': '\n",
    "                line = line.strip('. \\n').split(string)\n",
    "                if len(line) != 2:\n",
    "                    print('Wrong species name!')\n",
    "                    return 0\n",
    "                else: \n",
    "                    hist_count.append(int(line[0]))\n",
    "                    hist_conv.append(int(line[1]))\n",
    "            hist_temp.append(hist_count) \n",
    "            hist_temp.append(hist_conv) \n",
    "            hist.append(hist_temp)\n",
    "        return hist"
   ]
  },
  {
   "cell_type": "code",
   "execution_count": 3,
   "id": "c2a8b9da",
   "metadata": {},
   "outputs": [],
   "source": [
    "# def hist_period(file_name, speic_name):\n",
    "#     t_i = 0.9\n",
    "#     t_f = 1\n",
    "#     hist = read_file(file_name, speic_name)\n",
    "#     plot_count = []\n",
    "#     plot_conv = []\n",
    "#     tot = 0\n",
    "#     for i in hist:\n",
    "#         if t_i <= i[0] <= t_f:\n",
    "#             tot += 1\n",
    "#             for j in i[2]:\n",
    "#                 if j not in plot_conv:\n",
    "#                     plot_conv.append(j)\n",
    "#                     plot_count.append(i[1][i[2].index(j)])\n",
    "#                 else:\n",
    "#                     index = plot_conv.index(j)\n",
    "#                     plot_count[index] += i[1][i[2].index(j)]\n",
    "#     plot_count_mean = []                \n",
    "#     for i in plot_count:\n",
    "#         plot_count_mean.append(i/tot)\n",
    "#     print('Start time(s): ', t_i)\n",
    "#     print('End time(s): ', t_f)\n",
    "#     print('Occurring convergence: ', plot_conv)\n",
    "#     print('Occurring probabilities: ', plot_count_mean)\n",
    "#     plt.bar(plot_conv, plot_count_mean)\n",
    "#     plt.title('Histogram over a Certian Time Period')\n",
    "#     plt.xlabel('# of Clathrin')\n",
    "#     plt.ylabel('Count')\n",
    "#     plt.show()\n",
    "    \n",
    "# if __name__ == '__main__':\n",
    "#     hist_period('histogram_complexes_time.dat', 'clat')"
   ]
  },
  {
   "cell_type": "code",
   "execution_count": 4,
   "id": "0d2d24b6",
   "metadata": {},
   "outputs": [],
   "source": [
    "# def hist_max_old(file_name):\n",
    "#     t_i = 0\n",
    "#     t_f = 1\n",
    "#     hist = read_file(file_name)\n",
    "#     plot_time = []\n",
    "#     plot_conv = []\n",
    "#     for i in hist:\n",
    "#         if t_i <= i[0] <= t_f:\n",
    "#             plot_time.append(i[0])\n",
    "#             plot_conv.append(max(i[2]))\n",
    "#     plt.plot(plot_time, plot_conv)\n",
    "#     plt.title('Maximum # of Clathrin in Single Molecule')\n",
    "#     plt.xlabel('Time')\n",
    "#     plt.ylabel('Max Number of Clathrin')\n",
    "#     plt.show()\n",
    "            \n",
    "# if __name__ == '__main__':\n",
    "#     hist_max_old('histogram_complexes_time.dat')          "
   ]
  },
  {
   "cell_type": "code",
   "execution_count": 5,
   "id": "854997eb",
   "metadata": {},
   "outputs": [],
   "source": [
    "# def hist_mean_old(file_name):\n",
    "#     t_i = 0\n",
    "#     t_f = 1\n",
    "#     hist = read_file(file_name)\n",
    "#     plot_time = []\n",
    "#     plot_conv = []\n",
    "#     for i in hist:\n",
    "#         if t_i <= i[0] <= t_f:\n",
    "#             plot_time.append(i[0])\n",
    "#             plot_conv.append(np.mean(i[2]))\n",
    "#     plt.plot(plot_time, plot_conv)\n",
    "#     plt.title('Mean # of Clathrin in Single Molecule')\n",
    "#     plt.xlabel('Time')\n",
    "#     plt.ylabel('Mean # of Clathrin')\n",
    "#     plt.show()\n",
    "            \n",
    "# if __name__ == '__main__':\n",
    "#     hist_mean_old('histogram_complexes_time.dat')          "
   ]
  },
  {
   "cell_type": "code",
   "execution_count": 6,
   "id": "02bdb281",
   "metadata": {},
   "outputs": [],
   "source": [
    "def time_valid(file_name, t_i, t_f, speic_name):\n",
    "    hist = read_file(file_name, speic_name)\n",
    "    min_time = hist[0][0]\n",
    "    max_time = hist[-1][0]\n",
    "    if t_i == -1 and t_f == -1:\n",
    "        return min_time, max_time \n",
    "    elif min_time <= t_i <= max_time and t_i <= t_f <= max_time:\n",
    "        return t_i, t_f\n",
    "    else:\n",
    "        print('Wrong input time period!')\n",
    "        return -1.0, -1.0"
   ]
  },
  {
   "cell_type": "code",
   "execution_count": 7,
   "id": "61651e2c",
   "metadata": {},
   "outputs": [
    {
     "name": "stdout",
     "output_type": "stream",
     "text": [
      "Start time(s):  0.8\n",
      "End time(s):  1.0\n"
     ]
    },
    {
     "data": {
      "image/png": "[encoded data removed]",
      "text/plain": [
       "<Figure size 432x288 with 1 Axes>"
      ]
     },
     "metadata": {
      "needs_background": "light"
     },
     "output_type": "display_data"
    }
   ],
   "source": [
    "def hist(file_name, t_i, t_f, speic_name):\n",
    "    t_i, t_f = time_valid(file_name, t_i, t_f, speic_name)\n",
    "    if t_i != -1 and t_f != -1:\n",
    "        hist = read_file(file_name, speic_name)\n",
    "        plot_count = []\n",
    "        plot_conv = []\n",
    "        tot = 0\n",
    "        for i in hist:\n",
    "            if t_i <= i[0] <= t_f:\n",
    "                tot += 1\n",
    "                for j in i[2]:\n",
    "                    if j not in plot_conv:\n",
    "                        plot_conv.append(j)\n",
    "                        plot_count.append(i[1][i[2].index(j)])\n",
    "                    else:\n",
    "                        index = plot_conv.index(j)\n",
    "                        plot_count[index] += i[1][i[2].index(j)]\n",
    "        plot_count_mean = []                \n",
    "        for i in plot_count:\n",
    "            plot_count_mean.append(i/tot)\n",
    "        print('Start time(s): ', t_i)\n",
    "        print('End time(s): ', t_f)\n",
    "#         print('Occurring # of clathrin: ', plot_conv)\n",
    "#         print('Occurring probabilities: ', plot_count_mean)\n",
    "        plt.bar(plot_conv, plot_count_mean)\n",
    "        plt.title('Histogram of ' + str(speic_name))\n",
    "        plt.xlabel('# of ' + speic_name + ' .in sigle complex')\n",
    "        plt.ylabel('Count')\n",
    "        plt.show()\n",
    "        return 0\n",
    "    else:\n",
    "        return 0\n",
    "    \n",
    "if __name__ == '__main__':\n",
    "    hist('histogram_complexes_time_dode.dat', 0.8, 1.0, 'dode')"
   ]
  },
  {
   "cell_type": "code",
   "execution_count": 15,
   "id": "63f89447",
   "metadata": {},
   "outputs": [
    {
     "name": "stdout",
     "output_type": "stream",
     "text": [
      "Start time(s):  0.0\n",
      "End time(s):  1.0\n"
     ]
    },
    {
     "data": {
      "image/png": "[encoded data removed]",
      "text/plain": [
       "<Figure size 432x288 with 1 Axes>"
      ]
     },
     "metadata": {
      "needs_background": "light"
     },
     "output_type": "display_data"
    },
    {
     "name": "stdout",
     "output_type": "stream",
     "text": [
      "Start time(s):  0.0\n",
      "End time(s):  1.0\n"
     ]
    },
    {
     "data": {
      "image/png": "[encoded data removed]",
      "text/plain": [
       "<Figure size 432x288 with 1 Axes>"
      ]
     },
     "metadata": {
      "needs_background": "light"
     },
     "output_type": "display_data"
    },
    {
     "name": "stdout",
     "output_type": "stream",
     "text": [
      "Start time(s):  0.0\n",
      "End time(s):  1.0\n"
     ]
    },
    {
     "data": {
      "image/png": "[encoded data removed]",
      "text/plain": [
       "<Figure size 432x288 with 1 Axes>"
      ]
     },
     "metadata": {
      "needs_background": "light"
     },
     "output_type": "display_data"
    },
    {
     "name": "stdout",
     "output_type": "stream",
     "text": [
      "Start time(s):  0.0\n",
      "End time(s):  1.0\n"
     ]
    },
    {
     "data": {
      "image/png": "[encoded data removed]",
      "text/plain": [
       "<Figure size 432x288 with 1 Axes>"
      ]
     },
     "metadata": {
      "needs_background": "light"
     },
     "output_type": "display_data"
    },
    {
     "name": "stdout",
     "output_type": "stream",
     "text": [
      "Start time(s):  0.0\n",
      "End time(s):  1.0\n"
     ]
    },
    {
     "data": {
      "image/png": "[encoded data removed]",
      "text/plain": [
       "<Figure size 432x288 with 1 Axes>"
      ]
     },
     "metadata": {
      "needs_background": "light"
     },
     "output_type": "display_data"
    }
   ],
   "source": [
    "def max_complex(file_name, t_i, t_f, speic_name):\n",
    "    t_i, t_f = time_valid(file_name, t_i, t_f, speic_name)\n",
    "    if t_i != -1 and t_f != -1:\n",
    "        hist = read_file(file_name, speic_name)\n",
    "        plot_time = []\n",
    "        plot_conv = []\n",
    "        for i in hist:\n",
    "            if t_i <= i[0] <= t_f:\n",
    "                plot_time.append(i[0])\n",
    "                plot_conv.append(max(i[2]))\n",
    "        print('Start time(s): ', t_i)\n",
    "        print('End time(s): ', t_f)\n",
    "        plt.plot(plot_time, plot_conv)\n",
    "        plt.title('Average Number of ' + str(speic_name) + ' in Single Complex')\n",
    "        plt.xlabel('Time')\n",
    "        plt.ylabel('Maximum Number of ' + str(speic_name))\n",
    "        plt.show()\n",
    "        return 0\n",
    "    else:\n",
    "        return 0\n",
    "            \n",
    "if __name__ == '__main__':\n",
    "    max_complex('histogram_complexes_time_tetr.dat', 0.0, 1.0, 'tetr')\n",
    "    max_complex('histogram_complexes_time_cube.dat', 0.0, 1.0, 'cube')\n",
    "    max_complex('histogram_complexes_time_octa.dat', 0.0, 1.0, 'octa')\n",
    "    max_complex('histogram_complexes_time_dode.dat', 0.0, 1.0, 'dode')\n",
    "    max_complex('histogram_complexes_time_icos.dat', 0.0, 1.0, 'icos')"
   ]
  },
  {
   "cell_type": "code",
   "execution_count": 14,
   "id": "63feb5e8",
   "metadata": {},
   "outputs": [
    {
     "name": "stdout",
     "output_type": "stream",
     "text": [
      "Start time(s):  0\n",
      "End time(s):  1.0\n",
      "Exclude Monomers:  False\n"
     ]
    },
    {
     "data": {
      "image/png": "[encoded data removed]",
      "text/plain": [
       "<Figure size 432x288 with 1 Axes>"
      ]
     },
     "metadata": {
      "needs_background": "light"
     },
     "output_type": "display_data"
    }
   ],
   "source": [
    "def mean_complex(file_name, t_i, t_f, speic_name, ExcludeMono = False):\n",
    "    t_i, t_f = time_valid(file_name, t_i, t_f, speic_name)\n",
    "    if t_i != -1 and t_f != -1:\n",
    "        hist = read_file(file_name, speic_name)\n",
    "        plot_time = []\n",
    "        plot_conv = []\n",
    "        if not ExcludeMono:\n",
    "            for i in hist:\n",
    "                if t_i <= i[0] <= t_f:\n",
    "                    plot_time.append(i[0])\n",
    "                    plot_conv.append(np.mean(i[2]))\n",
    "        else:\n",
    "            for i in hist:\n",
    "                if t_i <= i[0] <= t_f:\n",
    "                    count = 1\n",
    "                    N = 0\n",
    "                    temp_sum = 0\n",
    "                    plot_time.append(i[0])\n",
    "                    while count <= len(i[1]):\n",
    "                        if i[2][count-1] != 1:\n",
    "                            temp_sum += i[2][count-1]\n",
    "                            N += 1\n",
    "                        if count == len(i[1]):\n",
    "                            if N != 0:\n",
    "                                plot_conv.append(temp_sum/N)\n",
    "                            else:\n",
    "                                plot_conv.append(0)\n",
    "                        count += 1\n",
    "        print('Start time(s): ', t_i)\n",
    "        print('End time(s): ', t_f)\n",
    "        print('Exclude Monomers: ', ExcludeMono)\n",
    "        plt.plot(plot_time, plot_conv)\n",
    "        plt.title('Average Number of ' + str(speic_name) + ' in Single Complex')\n",
    "        plt.xlabel('Time (s)')\n",
    "        plt.ylabel('Average Number of ' + str(speic_name))\n",
    "        plt.show()\n",
    "        return 0\n",
    "    else:\n",
    "        return 0\n",
    "            \n",
    "if __name__ == '__main__':\n",
    "    mean_complex('histogram_complexes_time_dode.dat', 0, 1.0, 'dode', False)"
   ]
  },
  {
   "cell_type": "code",
   "execution_count": null,
   "id": "767fdd3f",
   "metadata": {},
   "outputs": [],
   "source": [
    "def read_file_all(file_name, ):\n",
    "    with open(file_name, 'r') as file:\n",
    "        for line in file.readlines():\n",
    "            if line[0:4] == 'Time':\n",
    "                if hist_count != [] and hist_conv != []:\n",
    "                    hist_temp.append(hist_count) \n",
    "                    hist_temp.append(hist_conv) \n",
    "                    hist.append(hist_temp)\n",
    "                hist_count = []\n",
    "                hist_conv = []\n",
    "                hist_temp = []\n",
    "                hist_temp.append(float(line.strip('Time (s): ')))\n",
    "            else:\n",
    "                line = line.strip('. \\n').split('\tclat: ')\n",
    "                hist_count.append(int(line[0]))\n",
    "                hist_conv.append(int(line[1]))\n",
    "        hist_temp.append(hist_count) \n",
    "        hist_temp.append(hist_conv) \n",
    "        hist.append(hist_temp)\n",
    "    return hist\n",
    "\n",
    "read_file_all('histogram_complexes_time_2_comp.dat')"
   ]
  },
  {
   "cell_type": "code",
   "execution_count": null,
   "id": "eb19d6f4",
   "metadata": {},
   "outputs": [],
   "source": []
  }
 ],
 "metadata": {
  "kernelspec": {
   "display_name": "Python 3",
   "language": "python",
   "name": "python3"
  },
  "language_info": {
   "codemirror_mode": {
    "name": "ipython",
    "version": 3
   },
   "file_extension": ".py",
   "mimetype": "text/x-python",
   "name": "python",
   "nbconvert_exporter": "python",
   "pygments_lexer": "ipython3",
   "version": "3.8.8"
  }
 },
 "nbformat": 4,
 "nbformat_minor": 5
}
