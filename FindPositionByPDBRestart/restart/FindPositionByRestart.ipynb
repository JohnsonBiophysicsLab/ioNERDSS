{
 "cells": [
  {
   "cell_type": "code",
   "execution_count": 1,
   "id": "87201957",
   "metadata": {},
   "outputs": [],
   "source": [
    "def read_restart(file_name_restart):\n",
    "    with open(file_name_restart, 'r') as file:\n",
    "        status = False\n",
    "        count = 0\n",
    "        complex_lst = []\n",
    "        for line in file.readlines():\n",
    "            if line == '#All Complexes and their components \\n':\n",
    "                status = True\n",
    "            if status:\n",
    "                if count % 8 == 7:\n",
    "                    info = line.split()\n",
    "                    temp_lst = []\n",
    "                    for i in range(len(info)):\n",
    "                        if i != 0:\n",
    "                            temp_lst.append(int(info[i]))\n",
    "                    complex_lst.append(temp_lst)        \n",
    "                count += 1\n",
    "            if line == '#Observables \\n':\n",
    "                break\n",
    "    print('The total number of complexes is',len(complex_lst))\n",
    "    return complex_lst"
   ]
  },
  {
   "cell_type": "code",
   "execution_count": 2,
   "id": "8410cb29",
   "metadata": {},
   "outputs": [],
   "source": [
    "import pandas as pd\n",
    "\n",
    "def pdb_to_df(file_name_pdb):\n",
    "    df = pd.DataFrame(columns = ['Protein_Num','Protein_Name'])\n",
    "    with open(file_name_pdb, 'r') as file:\n",
    "        index = 0\n",
    "        for line in file.readlines():\n",
    "            line = line.split(' ')\n",
    "            if line[0] == 'ATOM':\n",
    "                info = []\n",
    "                for i in line:\n",
    "                    if i != '':\n",
    "                        info.append(i)\n",
    "                df.loc[index, 'Protein_Num'] = int(info[4])\n",
    "                df.loc[index, 'Protein_Name'] = info[3]\n",
    "            index += 1\n",
    "        df = df.dropna()\n",
    "        df = df.reset_index(drop = True)\n",
    "    return df"
   ]
  },
  {
   "cell_type": "code",
   "execution_count": 3,
   "id": "06e33b01",
   "metadata": {},
   "outputs": [],
   "source": [
    "def complex_df_gen(pdb_df, complex_lst):\n",
    "    name_lst = list(pdb_df['Protein_Name'])\n",
    "    name_lst_ = []\n",
    "    for i in name_lst:\n",
    "        if i not in name_lst_:\n",
    "            name_lst_.append(i)\n",
    "    column_lst = []\n",
    "    for i in name_lst_:\n",
    "        column_lst.append(i)\n",
    "    column_lst.append('Protein_Num')\n",
    "    complex_df = pd.DataFrame(columns = column_lst)\n",
    "    index = 0\n",
    "    for i in complex_lst:\n",
    "        complex_df.loc[index] = 0\n",
    "        complex_df.loc[index,'Protein_Num'] = str(i)\n",
    "        for j in i:\n",
    "            for indexs in pdb_df.index: \n",
    "                for k in range(len(pdb_df.loc[indexs].values)): \n",
    "                    if(pdb_df.loc[indexs].values[k] == j): \n",
    "                        col = pdb_df.loc[indexs,'Protein_Name']\n",
    "                        complex_df.loc[index,col] += 1\n",
    "                        break\n",
    "                else:\n",
    "                    continue\n",
    "                break\n",
    "        index += 1 \n",
    "    return complex_df\n"
   ]
  },
  {
   "cell_type": "code",
   "execution_count": 4,
   "id": "c378c0b2",
   "metadata": {},
   "outputs": [],
   "source": [
    "def find_complex_df(complex_df, num_lst, pdb_df):\n",
    "    protein_name = []\n",
    "    for i in range(len(pdb_df)):\n",
    "        if pdb_df.loc[i, 'Protein_Name'] not in protein_name:\n",
    "            protein_name.append(pdb_df.loc[i, 'Protein_Name'])\n",
    "    complex_df['Num_List'] = ''\n",
    "    for i in range(complex_df.shape[0]):\n",
    "        lst = []\n",
    "        for j in range(complex_df.shape[1]-2):\n",
    "            lst.append(complex_df.iloc[i, j])\n",
    "        complex_df.loc[i, 'Num_List'] = str(lst)\n",
    "    num_lst_str = str(num_lst)\n",
    "    protein_remain = []\n",
    "    for i in range(complex_df.shape[0]):\n",
    "        if complex_df.loc[i, 'Num_List'] == num_lst_str:\n",
    "            string = complex_df.loc[i, 'Protein_Num']\n",
    "            string = string.strip('[').strip(']').split(',')\n",
    "            for i in string:\n",
    "                protein_remain.append(int(i))           \n",
    "    return protein_remain\n",
    "\n"
   ]
  },
  {
   "cell_type": "code",
   "execution_count": 5,
   "id": "eaf3432a",
   "metadata": {},
   "outputs": [],
   "source": [
    "def new_pdb(file_name_pdb, protein_remain):\n",
    "    with open(file_name_pdb, 'r') as file:\n",
    "        write_lst = []\n",
    "        for line in file.readlines():\n",
    "            line_ = line.split(' ')\n",
    "            if line_[0] == 'TITLE':\n",
    "                write_lst.append(line)\n",
    "            elif line_[0] == 'CRYST1':\n",
    "                write_lst.append(line)\n",
    "            elif line_[0] == 'ATOM':\n",
    "                info = []\n",
    "                for i in line_:\n",
    "                    i.strip('\\n')\n",
    "                    if i != '':\n",
    "                        info.append(i)\n",
    "                info[9] = info[9].strip('\\n')\n",
    "                if int(info[4]) in protein_remain:\n",
    "                    write_lst.append(line)\n",
    "    with open('output_file.pdb','w') as file_:\n",
    "        file_.seek(0)\n",
    "        file_.truncate()\n",
    "        for i in write_lst:\n",
    "            file_.writelines(i)\n",
    "    return 0\n"
   ]
  },
  {
   "cell_type": "code",
   "execution_count": 6,
   "id": "29c3e923",
   "metadata": {},
   "outputs": [],
   "source": [
    "def locate_position_restart(file_name_pdb, num_lst, file_name_restart = 'restart.dat'):\n",
    "    print('Reading restart.dat...')\n",
    "    complex_lst = read_restart(file_name_restart)\n",
    "    print('Reading files complete!')\n",
    "    print('Reading PDB files...')\n",
    "    pdb_df = pdb_to_df(file_name_pdb)\n",
    "    print('Reading files complete!')\n",
    "    print('Finding complexes...')\n",
    "    complex_df = complex_df_gen(pdb_df, complex_lst)\n",
    "    print('Finding complexes complete!')\n",
    "    print('Writing new PDB files...')\n",
    "    protein_remain = find_complex_df(complex_df, num_lst, pdb_df)\n",
    "    new_pdb(file_name_pdb, protein_remain)\n",
    "    print('PDB writing complete!(named as output_file.pdb)')"
   ]
  },
  {
   "cell_type": "code",
   "execution_count": 8,
   "id": "41843e44",
   "metadata": {},
   "outputs": [
    {
     "name": "stdout",
     "output_type": "stream",
     "text": [
      "Reading restart.dat...\n",
      "The total number of complexes is 22\n",
      "Reading files complete!\n",
      "Reading PDB files...\n",
      "Reading files complete!\n",
      "Finding complexes...\n",
      "Finding complexes complete!\n",
      "Writing new PDB files...\n",
      "PDB writing complete!(named as output_file.pdb)\n"
     ]
    }
   ],
   "source": [
    "locate_position_restart(file_name_pdb = '9999999.pdb', num_lst = [18], file_name_restart = 'restart.dat')"
   ]
  },
  {
   "cell_type": "code",
   "execution_count": null,
   "id": "a1e4c0ff",
   "metadata": {},
   "outputs": [],
   "source": []
  }
 ],
 "metadata": {
  "kernelspec": {
   "display_name": "Python 3",
   "language": "python",
   "name": "python3"
  },
  "language_info": {
   "codemirror_mode": {
    "name": "ipython",
    "version": 3
   },
   "file_extension": ".py",
   "mimetype": "text/x-python",
   "name": "python",
   "nbconvert_exporter": "python",
   "pygments_lexer": "ipython3",
   "version": "3.8.8"
  }
 },
 "nbformat": 4,
 "nbformat_minor": 5
}
