{
 "cells": [
  {
   "cell_type": "code",
   "execution_count": 71,
   "id": "12fa33b9",
   "metadata": {},
   "outputs": [],
   "source": [
    "def dodecahedron_coord():\n",
    "    \n",
    "    scaler = 56\n",
    "    \n",
    "    m = (1+5**(0.5))/2\n",
    "    V1 = [0, m, 1/m]\n",
    "    V2 = [0, m, -1/m]\n",
    "    V3 = [0, -m, 1/m]\n",
    "    V4 = [0, -m, -1/m]\n",
    "    V5 = [1/m, 0, m]\n",
    "    V6 = [1/m, 0, -m]\n",
    "    V7 = [-1/m, 0, m]\n",
    "    V8 = [-1/m, 0, -m]\n",
    "    V9 = [m, 1/m, 0]\n",
    "    V10 = [m, -1/m, 0]\n",
    "    V11 = [-m, 1/m, 0]\n",
    "    V12 = [-m, -1/m, 0]\n",
    "    V13 = [1, 1, 1]\n",
    "    V14 = [1, 1, -1]\n",
    "    V15 = [1, -1, 1]\n",
    "    V16 = [1, -1, -1]\n",
    "    V17 = [-1, 1, 1]\n",
    "    V18 = [-1, 1, -1]\n",
    "    V19 = [-1, -1, 1]\n",
    "    V20 = [-1, -1, -1]\n",
    "    coord = [V1, V2, V3, V4, V5, V6, V7, V8, V9, V10, V11, V12, V13, V14, V15, V16, V17, V18, V19, V20]\n",
    "    coord_ = []\n",
    "    for i in coord:\n",
    "        temp_list = []\n",
    "        for j in i:\n",
    "            temp = j*scaler\n",
    "            temp_list.append(temp)\n",
    "        coord_.append(temp_list)\n",
    "    return coord_\n",
    "\n",
    "if __name__ == '__main__':\n",
    "    dodecahedron_coord()"
   ]
  },
  {
   "cell_type": "code",
   "execution_count": 72,
   "id": "c549c6a0",
   "metadata": {},
   "outputs": [
    {
     "data": {
      "image/png": "[encoded data removed]",
      "text/plain": [
       "<Figure size 432x288 with 1 Axes>"
      ]
     },
     "metadata": {
      "needs_background": "light"
     },
     "output_type": "display_data"
    }
   ],
   "source": [
    "import matplotlib.pyplot as plt\n",
    "from mpl_toolkits.mplot3d import Axes3D\n",
    "\n",
    "def plot():\n",
    "    coord_ = dodecahedron_coord()\n",
    "    X = []\n",
    "    Y = []\n",
    "    Z = []\n",
    "    for i in coord_:\n",
    "        X.append(i[0])\n",
    "        Y.append(i[1])\n",
    "        Z.append(i[2])\n",
    "    fig = plt.figure()\n",
    "    ax = plt.subplot(projection='3d')\n",
    "    ax.scatter(X, Y, Z)\n",
    "    ax.set_xlabel('X')\n",
    "    ax.set_ylabel('Y')\n",
    "    ax.set_zlabel('Z')\n",
    "    plt.show()\n",
    "    \n",
    "if __name__ == '__main__':\n",
    "    plot()"
   ]
  },
  {
   "cell_type": "code",
   "execution_count": 73,
   "id": "c59173aa",
   "metadata": {},
   "outputs": [
    {
     "name": "stdout",
     "output_type": "stream",
     "text": [
      "1.7320508075688772\n"
     ]
    }
   ],
   "source": [
    "def distance(a, b):\n",
    "    return ((a[0] - b[0])**2 + (a[1] - b[1])**2 + (a[2] - b[2])**2)**0.5\n",
    "\n",
    "if __name__ == '__main__':\n",
    "    print(distance([0, 0, 0], [1, 1, 1]))"
   ]
  },
  {
   "cell_type": "code",
   "execution_count": 74,
   "id": "6ddc6286",
   "metadata": {},
   "outputs": [
    {
     "name": "stdout",
     "output_type": "stream",
     "text": [
      "69.219806739988\n",
      "69.219806739988\n",
      "69.219806739988\n",
      "69.219806739988\n",
      "69.219806739988\n",
      "69.219806739988\n",
      "69.219806739988\n",
      "69.219806739988\n",
      "69.219806739988\n",
      "69.219806739988\n",
      "69.219806739988\n",
      "69.219806739988\n",
      "69.219806739988\n",
      "69.219806739988\n",
      "69.219806739988\n",
      "69.219806739988\n",
      "69.219806739988\n",
      "69.219806739988\n",
      "69.219806739988\n",
      "69.219806739988\n",
      "69.219806739988\n",
      "69.219806739988\n",
      "69.219806739988\n",
      "69.219806739988\n",
      "69.219806739988\n",
      "69.219806739988\n",
      "69.219806739988\n",
      "69.219806739988\n",
      "69.219806739988\n",
      "69.219806739988\n",
      "count:  30\n",
      "Lengths match!\n"
     ]
    }
   ],
   "source": [
    "def comp_len():\n",
    "    coord = dodecahedron_coord()\n",
    "    n = 12\n",
    "    len_E = []\n",
    "    len_E.append(round(distance(coord[0], coord[1]),n))\n",
    "    len_E.append(round(distance(coord[0], coord[12]),n))\n",
    "    len_E.append(round(distance(coord[0], coord[16]),n))\n",
    "    len_E.append(round(distance(coord[1], coord[13]),n))\n",
    "    len_E.append(round(distance(coord[1], coord[17]),n))\n",
    "    len_E.append(round(distance(coord[2], coord[3]),n))\n",
    "    len_E.append(round(distance(coord[2], coord[14]),n))\n",
    "    len_E.append(round(distance(coord[2], coord[18]),n))\n",
    "    len_E.append(round(distance(coord[3], coord[15]),n))\n",
    "    len_E.append(round(distance(coord[3], coord[19]),n))\n",
    "    len_E.append(round(distance(coord[4], coord[6]),n))\n",
    "    len_E.append(round(distance(coord[4], coord[12]),n))\n",
    "    len_E.append(round(distance(coord[4], coord[14]),n))\n",
    "    len_E.append(round(distance(coord[5], coord[7]),n))\n",
    "    len_E.append(round(distance(coord[5], coord[13]),n))\n",
    "    len_E.append(round(distance(coord[5], coord[15]),n))\n",
    "    len_E.append(round(distance(coord[6], coord[16]),n))\n",
    "    len_E.append(round(distance(coord[6], coord[18]),n))\n",
    "    len_E.append(round(distance(coord[7], coord[17]),n))\n",
    "    len_E.append(round(distance(coord[7], coord[19]),n))\n",
    "    len_E.append(round(distance(coord[8], coord[9]),n))\n",
    "    len_E.append(round(distance(coord[8], coord[12]),n))\n",
    "    len_E.append(round(distance(coord[8], coord[13]),n))\n",
    "    len_E.append(round(distance(coord[9], coord[14]),n))\n",
    "    len_E.append(round(distance(coord[9], coord[15]),n))\n",
    "    len_E.append(round(distance(coord[10], coord[11]),n))\n",
    "    len_E.append(round(distance(coord[10], coord[16]),n))\n",
    "    len_E.append(round(distance(coord[10], coord[17]),n))\n",
    "    len_E.append(round(distance(coord[11], coord[18]),n))\n",
    "    len_E.append(round(distance(coord[11], coord[19]),n))\n",
    "    \n",
    "    count = 0\n",
    "    for i in len_E:\n",
    "        print(i)\n",
    "        count += 1\n",
    "    print('count: ', count)\n",
    "    \n",
    "    status = 1\n",
    "    for i in range(0, len(len_E)):\n",
    "        for j in range(i, len(len_E)):\n",
    "            if len_E[i] != len_E[j]:\n",
    "                status = 0\n",
    "                break\n",
    "    if status == 1:\n",
    "        print('Lengths match!')\n",
    "    else:\n",
    "        print('Lengths do not match!')\n",
    "    \n",
    "if __name__ == '__main__':\n",
    "    comp_len()"
   ]
  },
  {
   "cell_type": "code",
   "execution_count": null,
   "id": "46f90ead",
   "metadata": {},
   "outputs": [],
   "source": []
  },
  {
   "cell_type": "code",
   "execution_count": null,
   "id": "530fc6c3",
   "metadata": {},
   "outputs": [],
   "source": []
  }
 ],
 "metadata": {
  "kernelspec": {
   "display_name": "Python 3",
   "language": "python",
   "name": "python3"
  },
  "language_info": {
   "codemirror_mode": {
    "name": "ipython",
    "version": 3
   },
   "file_extension": ".py",
   "mimetype": "text/x-python",
   "name": "python",
   "nbconvert_exporter": "python",
   "pygments_lexer": "ipython3",
   "version": "3.8.8"
  }
 },
 "nbformat": 4,
 "nbformat_minor": 5
}
