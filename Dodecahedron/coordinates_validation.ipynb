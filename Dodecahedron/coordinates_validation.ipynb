{
 "cells": [
  {
   "cell_type": "code",
   "execution_count": 62,
   "id": "2f0c5820",
   "metadata": {},
   "outputs": [],
   "source": [
    "def dodecahedron_coord():\n",
    "    \n",
    "    scaler = 40\n",
    "    \n",
    "    m = (1+5**(0.5))/2\n",
    "    V1 = [0, m, 1/m]\n",
    "    V2 = [0, m, -1/m]\n",
    "    V3 = [0, -m, 1/m]\n",
    "    V4 = [0, -m, -1/m]\n",
    "    V5 = [1/m, 0, m]\n",
    "    V6 = [1/m, 0, -m]\n",
    "    V7 = [-1/m, 0, m]\n",
    "    V8 = [-1/m, 0, -m]\n",
    "    V9 = [m, 1/m, 0]\n",
    "    V10 = [m, -1/m, 0]\n",
    "    V11 = [-m, 1/m, 0]\n",
    "    V12 = [-m, -1/m, 0]\n",
    "    V13 = [1, 1, 1]\n",
    "    V14 = [1, 1, -1]\n",
    "    V15 = [1, -1, 1]\n",
    "    V16 = [1, -1, -1]\n",
    "    V17 = [-1, 1, 1]\n",
    "    V18 = [-1, 1, -1]\n",
    "    V19 = [-1, -1, 1]\n",
    "    V20 = [-1, -1, -1]\n",
    "    coord = [V1, V2, V3, V4, V5, V6, V7, V8, V9, V10, V11, V12, V13, V14, V15, V16, V17, V18, V19, V20]\n",
    "    coord_ = []\n",
    "    for i in coord:\n",
    "        temp_list = []\n",
    "        for j in i:\n",
    "            temp = j*scaler\n",
    "            temp_list.append(temp)\n",
    "        coord_.append(temp_list)\n",
    "    return coord_\n",
    "\n",
    "if __name__ == '__main__':\n",
    "    dodecahedron_coord()"
   ]
  },
  {
   "cell_type": "code",
   "execution_count": 77,
   "id": "49ccd884",
   "metadata": {},
   "outputs": [
    {
     "data": {
      "image/png": "[encoded data removed]",
      "text/plain": [
       "<Figure size 432x288 with 1 Axes>"
      ]
     },
     "metadata": {
      "needs_background": "light"
     },
     "output_type": "display_data"
    }
   ],
   "source": [
    "import matplotlib.pyplot as plt\n",
    "from mpl_toolkits.mplot3d import Axes3D\n",
    "\n",
    "def plot():\n",
    "    coord = dodecahedron_coord()\n",
    "    X = []\n",
    "    Y = []\n",
    "    Z = []\n",
    "    for i in coord:\n",
    "        X.append(i[0])\n",
    "        Y.append(i[1])\n",
    "        Z.append(i[2])\n",
    "    fig = plt.figure()\n",
    "    ax = plt.subplot(projection='3d')\n",
    "    ax.scatter(X, Y, Z)\n",
    "    ax.set_xlabel('X')\n",
    "    ax.set_ylabel('Y')\n",
    "    ax.set_zlabel('Z')\n",
    "    plt.show()\n",
    "    \n",
    "if __name__ == '__main__':\n",
    "    plot()"
   ]
  },
  {
   "cell_type": "code",
   "execution_count": 78,
   "id": "d01bbaa0",
   "metadata": {},
   "outputs": [
    {
     "name": "stdout",
     "output_type": "stream",
     "text": [
      "1.7320508075688772\n"
     ]
    }
   ],
   "source": [
    "def distance(a, b):\n",
    "    return ((a[0] - b[0])**2 + (a[1] - b[1])**2 + (a[2] - b[2])**2)**0.5\n",
    "\n",
    "if __name__ == '__main__':\n",
    "    print(distance([0, 0, 0], [1, 1, 1]))"
   ]
  },
  {
   "cell_type": "code",
   "execution_count": 79,
   "id": "6379a2a9",
   "metadata": {},
   "outputs": [
    {
     "name": "stdout",
     "output_type": "stream",
     "text": [
      "All elements in list:\n",
      "49.442719099992\n",
      "49.442719099992\n",
      "49.442719099992\n",
      "49.442719099992\n",
      "49.442719099992\n",
      "49.442719099992\n",
      "49.442719099992\n",
      "49.442719099992\n",
      "49.442719099992\n",
      "49.442719099992\n",
      "49.442719099992\n",
      "49.442719099992\n",
      "49.442719099992\n",
      "49.442719099992\n",
      "49.442719099992\n",
      "49.442719099992\n",
      "49.442719099992\n",
      "49.442719099992\n",
      "49.442719099992\n",
      "49.442719099992\n",
      "49.442719099992\n",
      "49.442719099992\n",
      "49.442719099992\n",
      "49.442719099992\n",
      "49.442719099992\n",
      "49.442719099992\n",
      "49.442719099992\n",
      "49.442719099992\n",
      "49.442719099992\n",
      "49.442719099992\n",
      "Length:  49.442719099992\n",
      "Count:  30\n",
      "E = 30 for dodecahedron\n",
      "Lengths match!\n"
     ]
    }
   ],
   "source": [
    "def comp_len():\n",
    "    coord = dodecahedron_coord()\n",
    "    n = 12\n",
    "    len_E = []\n",
    "    len_E.append(round(distance(coord[0], coord[1]),n))\n",
    "    len_E.append(round(distance(coord[0], coord[12]),n))\n",
    "    len_E.append(round(distance(coord[0], coord[16]),n))\n",
    "    len_E.append(round(distance(coord[1], coord[13]),n))\n",
    "    len_E.append(round(distance(coord[1], coord[17]),n))\n",
    "    len_E.append(round(distance(coord[2], coord[3]),n))\n",
    "    len_E.append(round(distance(coord[2], coord[14]),n))\n",
    "    len_E.append(round(distance(coord[2], coord[18]),n))\n",
    "    len_E.append(round(distance(coord[3], coord[15]),n))\n",
    "    len_E.append(round(distance(coord[3], coord[19]),n))\n",
    "    len_E.append(round(distance(coord[4], coord[6]),n))\n",
    "    len_E.append(round(distance(coord[4], coord[12]),n))\n",
    "    len_E.append(round(distance(coord[4], coord[14]),n))\n",
    "    len_E.append(round(distance(coord[5], coord[7]),n))\n",
    "    len_E.append(round(distance(coord[5], coord[13]),n))\n",
    "    len_E.append(round(distance(coord[5], coord[15]),n))\n",
    "    len_E.append(round(distance(coord[6], coord[16]),n))\n",
    "    len_E.append(round(distance(coord[6], coord[18]),n))\n",
    "    len_E.append(round(distance(coord[7], coord[17]),n))\n",
    "    len_E.append(round(distance(coord[7], coord[19]),n))\n",
    "    len_E.append(round(distance(coord[8], coord[9]),n))\n",
    "    len_E.append(round(distance(coord[8], coord[12]),n))\n",
    "    len_E.append(round(distance(coord[8], coord[13]),n))\n",
    "    len_E.append(round(distance(coord[9], coord[14]),n))\n",
    "    len_E.append(round(distance(coord[9], coord[15]),n))\n",
    "    len_E.append(round(distance(coord[10], coord[11]),n))\n",
    "    len_E.append(round(distance(coord[10], coord[16]),n))\n",
    "    len_E.append(round(distance(coord[10], coord[17]),n))\n",
    "    len_E.append(round(distance(coord[11], coord[18]),n))\n",
    "    len_E.append(round(distance(coord[11], coord[19]),n))\n",
    "    \n",
    "    print('All elements in list:')\n",
    "    for i in len_E:\n",
    "        print(i)\n",
    "    \n",
    "    print('Length: ', len_E[0])\n",
    "    print('Count: ', len(len_E))\n",
    "    print('E = 30 for dodecahedron')\n",
    "    \n",
    "    status = 1\n",
    "    for i in range(0, len(len_E)):\n",
    "        for j in range(i, len(len_E)):\n",
    "            if len_E[i] != len_E[j]:\n",
    "                status = 0\n",
    "                break\n",
    "    if status == 1:\n",
    "        print('Lengths match!')\n",
    "        return len_E[0]\n",
    "    else:\n",
    "        print('Lengths do not match!')\n",
    "        return 0\n",
    "          \n",
    "    \n",
    "if __name__ == '__main__':\n",
    "    comp_len()"
   ]
  },
  {
   "cell_type": "code",
   "execution_count": 80,
   "id": "d25fc201",
   "metadata": {},
   "outputs": [
    {
     "name": "stdout",
     "output_type": "stream",
     "text": [
      "[2.5, 3.5, 4.5]\n"
     ]
    }
   ],
   "source": [
    "def mid_pt(a, b):\n",
    "    return [(a[0]+b[0])/2, (a[1]+b[1])/2, (a[2]+b[2])/2]\n",
    "\n",
    "if __name__ == '__main__':\n",
    "    print(mid_pt([1, 2, 3], [4, 5, 6]))"
   ]
  },
  {
   "cell_type": "code",
   "execution_count": 84,
   "id": "4de25ca9",
   "metadata": {},
   "outputs": [
    {
     "name": "stdout",
     "output_type": "stream",
     "text": [
      "COM coordinates match!\n"
     ]
    }
   ],
   "source": [
    "import math\n",
    "\n",
    "def COM_coor(a, b, c, d, e):\n",
    "    n = 12\n",
    "    mid_a = mid_pt(c, d)\n",
    "    mid_b = mid_pt(d, e)\n",
    "    mid_c = mid_pt(a, e)\n",
    "    COM_a = []\n",
    "    COM_b = []\n",
    "    COM_c = []\n",
    "    for i in range(0, 3):\n",
    "        COM_a.append(round(a[i] + (mid_a[i] - a[i])/(1+math.sin(0.3*math.pi)), n))\n",
    "        COM_b.append(round(b[i] + (mid_b[i] - b[i])/(1+math.sin(0.3*math.pi)), n))\n",
    "        COM_c.append(round(c[i] + (mid_c[i] - c[i])/(1+math.sin(0.3*math.pi)), n))\n",
    "        \n",
    "    if COM_a == COM_b and COM_b == COM_c:\n",
    "        print('COM coordinates match!')\n",
    "        return COM_a\n",
    "    else:\n",
    "        print('COM coordinates do not match!')\n",
    "        return 0\n",
    "    \n",
    "if __name__ == '__main__':\n",
    "    coord = dodecahedron_coord()\n",
    "    COM_coor(coord[3], coord[15], coord[9], coord[14], coord[2])\n",
    "    "
   ]
  },
  {
   "cell_type": "code",
   "execution_count": 90,
   "id": "686f251e",
   "metadata": {},
   "outputs": [
    {
     "name": "stdout",
     "output_type": "stream",
     "text": [
      "COM coordinates match!\n",
      "COM coordinates match!\n",
      "COM coordinates match!\n",
      "COM coordinates match!\n",
      "COM coordinates match!\n",
      "COM coordinates match!\n",
      "COM coordinates match!\n",
      "COM coordinates match!\n",
      "COM coordinates match!\n",
      "COM coordinates match!\n",
      "COM coordinates match!\n",
      "COM coordinates match!\n"
     ]
    }
   ],
   "source": [
    "def COM_list_gen():\n",
    "    coord = dodecahedron_coord()\n",
    "    COM_list = []\n",
    "    COM_list.append(COM_coor(coord[6], coord[18], coord[2], coord[14], coord[4]))\n",
    "    COM_list.append(COM_coor(coord[6], coord[4], coord[12], coord[0], coord[16]))\n",
    "    COM_list.append(COM_coor(coord[4], coord[14], coord[9], coord[8], coord[12]))\n",
    "    COM_list.append(COM_coor(coord[6], coord[18], coord[11], coord[10], coord[16]))\n",
    "    COM_list.append(COM_coor(coord[14], coord[2], coord[3], coord[15], coord[9]))\n",
    "    COM_list.append(COM_coor(coord[18], coord[11], coord[19], coord[3], coord[2]))\n",
    "    COM_list.append(COM_coor(coord[16], coord[10], coord[17], coord[1], coord[0]))\n",
    "    COM_list.append(COM_coor(coord[12], coord[0], coord[1], coord[13], coord[8]))\n",
    "    COM_list.append(COM_coor(coord[7], coord[17], coord[10], coord[11], coord[19]))\n",
    "    COM_list.append(COM_coor(coord[5], coord[13], coord[8], coord[9], coord[15]))\n",
    "    COM_list.append(COM_coor(coord[3], coord[19], coord[7], coord[5], coord[15]))\n",
    "    COM_list.append(COM_coor(coord[1], coord[17], coord[7], coord[5], coord[13]))\n",
    "    return COM_list\n",
    "\n",
    "if __name__ == '__main__':\n",
    "    COM_list_gen()"
   ]
  },
  {
   "cell_type": "code",
   "execution_count": null,
   "id": "acf3929f",
   "metadata": {},
   "outputs": [],
   "source": []
  }
 ],
 "metadata": {
  "kernelspec": {
   "display_name": "Python 3",
   "language": "python",
   "name": "python3"
  },
  "language_info": {
   "codemirror_mode": {
    "name": "ipython",
    "version": 3
   },
   "file_extension": ".py",
   "mimetype": "text/x-python",
   "name": "python",
   "nbconvert_exporter": "python",
   "pygments_lexer": "ipython3",
   "version": "3.8.8"
  }
 },
 "nbformat": 4,
 "nbformat_minor": 5
}
