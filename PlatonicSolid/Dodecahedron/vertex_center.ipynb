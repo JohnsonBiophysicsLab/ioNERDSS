{
 "cells": [
  {
   "cell_type": "code",
   "execution_count": 1,
   "id": "0c147f21",
   "metadata": {},
   "outputs": [
    {
     "name": "stdout",
     "output_type": "stream",
     "text": [
      "radius =  30\n",
      "[[0.0, 28.025170768881473, 10.704662693192699], [0.0, 28.025170768881473, -10.704662693192699], [0.0, -28.025170768881473, 10.704662693192699], [0.0, -28.025170768881473, -10.704662693192699], [10.704662693192699, 0.0, 28.025170768881473], [10.704662693192699, 0.0, -28.025170768881473], [-10.704662693192699, 0.0, 28.025170768881473], [-10.704662693192699, 0.0, -28.025170768881473], [28.025170768881473, 10.704662693192699, 0.0], [28.025170768881473, -10.704662693192699, 0.0], [-28.025170768881473, 10.704662693192699, 0.0], [-28.025170768881473, -10.704662693192699, 0.0], [17.320508075688775, 17.320508075688775, 17.320508075688775], [17.320508075688775, 17.320508075688775, -17.320508075688775], [17.320508075688775, -17.320508075688775, 17.320508075688775], [17.320508075688775, -17.320508075688775, -17.320508075688775], [-17.320508075688775, 17.320508075688775, 17.320508075688775], [-17.320508075688775, 17.320508075688775, -17.320508075688775], [-17.320508075688775, -17.320508075688775, 17.320508075688775], [-17.320508075688775, -17.320508075688775, -17.320508075688775]]\n"
     ]
    }
   ],
   "source": [
    "def dodecahedron_coord(radius):\n",
    "    \n",
    "    print('radius = ', radius)\n",
    "    \n",
    "    # Setup coordinates of 20 verticies when scaler = 1\n",
    "    scaler = radius/(3**0.5)\n",
    "    m = (1+5**(0.5))/2\n",
    "    V0 = [0, m, 1/m]\n",
    "    V1 = [0, m, -1/m]\n",
    "    V2 = [0, -m, 1/m]\n",
    "    V3 = [0, -m, -1/m]\n",
    "    V4 = [1/m, 0, m]\n",
    "    V5 = [1/m, 0, -m]\n",
    "    V6 = [-1/m, 0, m]\n",
    "    V7 = [-1/m, 0, -m]\n",
    "    V8 = [m, 1/m, 0]\n",
    "    V9 = [m, -1/m, 0]\n",
    "    V10 = [-m, 1/m, 0]\n",
    "    V11 = [-m, -1/m, 0]\n",
    "    V12 = [1, 1, 1]\n",
    "    V13 = [1, 1, -1]\n",
    "    V14 = [1, -1, 1]\n",
    "    V15 = [1, -1, -1]\n",
    "    V16 = [-1, 1, 1]\n",
    "    V17 = [-1, 1, -1]\n",
    "    V18 = [-1, -1, 1]\n",
    "    V19 = [-1, -1, -1]\n",
    "    coord = [V0, V1, V2, V3, V4, V5, V6, V7, V8, V9, V10, V11, V12, V13, V14, V15, V16, V17, V18, V19]\n",
    "    \n",
    "    # calculate coordinates according to the scaler as coord_ (list)\n",
    "    coord_ = []\n",
    "    for i in coord:\n",
    "        temp_list = []\n",
    "        for j in i:\n",
    "            temp = j*scaler\n",
    "            temp_list.append(temp)\n",
    "        coord_.append(temp_list)\n",
    "    return coord_\n",
    "\n",
    "if __name__ == '__main__':\n",
    "    print(dodecahedron_coord(radius = 30))"
   ]
  },
  {
   "cell_type": "code",
   "execution_count": 2,
   "id": "ec0fb262",
   "metadata": {},
   "outputs": [
    {
     "name": "stdout",
     "output_type": "stream",
     "text": [
      "radius =  30\n",
      "radius =  30.000000000000004\n",
      "edge length =  21.409325386385397\n"
     ]
    }
   ],
   "source": [
    "def distance(a, b):\n",
    "    # a seperated function for calculating the distance between two coordinates\n",
    "    n = 15\n",
    "    return round(((a[0] - b[0])**2 + (a[1] - b[1])**2 + (a[2] - b[2])**2)**0.5, n)\n",
    "\n",
    "if __name__ == '__main__':\n",
    "    coord = dodecahedron_coord(radius = 30)\n",
    "    print('radius = ', distance([0, 0, 0], coord[0]))\n",
    "    print('edge length = ', distance(coord[0], coord[1]))"
   ]
  },
  {
   "cell_type": "code",
   "execution_count": 3,
   "id": "43519b61",
   "metadata": {},
   "outputs": [
    {
     "name": "stdout",
     "output_type": "stream",
     "text": [
      "[2.5, 3.5, 4.5]\n"
     ]
    }
   ],
   "source": [
    "def mid_pt(a, b):\n",
    "    # this is a seperate function for calculating mid point of two coords\n",
    "    n = 15\n",
    "    return [round((a[0]+b[0])/2, n), round((a[1]+b[1])/2, n), round((a[2]+b[2])/2, n)]\n",
    "\n",
    "if __name__ == '__main__':\n",
    "    print(mid_pt([1, 2, 3], [4, 5, 6]))"
   ]
  },
  {
   "cell_type": "code",
   "execution_count": 4,
   "id": "cfbda2b2",
   "metadata": {},
   "outputs": [
    {
     "name": "stdout",
     "output_type": "stream",
     "text": [
      "radius =  30\n",
      "[array([ 0.        , 28.02517077, 10.70466269]), array([ 0.        , 28.02517077,  0.        ]), array([ 8.66025404, 22.67283942, 14.01258538]), array([-8.66025404, 22.67283942, 14.01258538])]\n"
     ]
    }
   ],
   "source": [
    "from numpy import *\n",
    "\n",
    "def COM_leg(COM, a, b, c):\n",
    "    lega = mid_pt(COM, a)\n",
    "    legb = mid_pt(COM, b)\n",
    "    legc = mid_pt(COM, c)\n",
    "    return [around(COM, 10), around(lega, 10), around(legb, 10), around(legc, 10)]\n",
    "\n",
    "if __name__ == '__main__':\n",
    "    coord = dodecahedron_coord(radius = 30)\n",
    "    print(COM_leg(coord[0], coord[1], coord[12], coord[16]))"
   ]
  },
  {
   "cell_type": "code",
   "execution_count": 5,
   "id": "a08b20ac",
   "metadata": {},
   "outputs": [
    {
     "name": "stdout",
     "output_type": "stream",
     "text": [
      "radius =  30\n",
      "Number of leg =  30 (should be 30)\n"
     ]
    }
   ],
   "source": [
    "def COM_leg_gen(radius):\n",
    "    coord = dodecahedron_coord(radius)\n",
    "    COM_leg_list = []\n",
    "    COM_leg_list.append(COM_leg(coord[0], coord[1], coord[12], coord[16]))\n",
    "    COM_leg_list.append(COM_leg(coord[1], coord[0], coord[13], coord[17]))\n",
    "    COM_leg_list.append(COM_leg(coord[2], coord[3], coord[14], coord[18]))\n",
    "    COM_leg_list.append(COM_leg(coord[3], coord[2], coord[15], coord[19]))\n",
    "    COM_leg_list.append(COM_leg(coord[4], coord[6], coord[12], coord[14]))\n",
    "    COM_leg_list.append(COM_leg(coord[5], coord[7], coord[13], coord[15]))\n",
    "    COM_leg_list.append(COM_leg(coord[6], coord[4], coord[16], coord[18]))\n",
    "    COM_leg_list.append(COM_leg(coord[7], coord[5], coord[17], coord[19]))\n",
    "    COM_leg_list.append(COM_leg(coord[8], coord[9], coord[12], coord[13]))\n",
    "    COM_leg_list.append(COM_leg(coord[9], coord[8], coord[14], coord[15]))\n",
    "    COM_leg_list.append(COM_leg(coord[10], coord[11], coord[16], coord[17]))\n",
    "    COM_leg_list.append(COM_leg(coord[11], coord[10], coord[18], coord[19]))\n",
    "    COM_leg_list.append(COM_leg(coord[12], coord[0], coord[4], coord[8]))\n",
    "    COM_leg_list.append(COM_leg(coord[13], coord[1], coord[5], coord[8]))\n",
    "    COM_leg_list.append(COM_leg(coord[14], coord[2], coord[4], coord[9]))\n",
    "    COM_leg_list.append(COM_leg(coord[15], coord[3], coord[5], coord[9]))\n",
    "    COM_leg_list.append(COM_leg(coord[16], coord[0], coord[6], coord[10]))\n",
    "    COM_leg_list.append(COM_leg(coord[17], coord[1], coord[7], coord[10]))\n",
    "    COM_leg_list.append(COM_leg(coord[18], coord[2], coord[6], coord[11]))\n",
    "    COM_leg_list.append(COM_leg(coord[19], coord[3], coord[7], coord[11]))\n",
    "    return COM_leg_list\n",
    "\n",
    "def COM_leg_valid(radius):\n",
    "    COM_leg_list = COM_leg_gen(radius)\n",
    "    leg_pool = []\n",
    "    count = 0\n",
    "    for i in COM_leg_list:\n",
    "        for j in range(len(i)):\n",
    "            if j != 0:\n",
    "                if list(i[j]) not in leg_pool:\n",
    "                    count += 1\n",
    "                    leg_pool.append(list(i[j]))\n",
    "    print('Number of leg = ', count, '(should be 30)')\n",
    "\n",
    "if __name__ == '__main__':\n",
    "    COM_leg_valid(radius = 30)"
   ]
  },
  {
   "cell_type": "code",
   "execution_count": 6,
   "id": "f97dc892",
   "metadata": {},
   "outputs": [
    {
     "name": "stdout",
     "output_type": "stream",
     "text": [
      "radius =  30\n",
      "Actual distance:  1.0\n",
      "Assigned sigma:  1\n",
      "Result match!\n",
      "\n",
      "Actual distance:  2.0\n",
      "Assigned sigma:  2\n",
      "Result match!\n",
      "\n",
      "Actual distance:  5.0\n",
      "Assigned sigma:  5\n",
      "Result match!\n",
      "\n"
     ]
    }
   ],
   "source": [
    "def leg_reduce(COM, leg, sigma):   \n",
    "    red_len = sigma/2\n",
    "    ratio = 1 - red_len/distance(COM, leg)\n",
    "    leg_red = []\n",
    "    for i in range(0, 3):\n",
    "        leg_red.append(round((leg[i] - COM[i])*ratio + COM[i], 8))\n",
    "    return leg_red\n",
    "                \n",
    "def leg_reduce_valid(a, b, c, d, sigma):\n",
    "    # validate the reduced length of legs is correct\n",
    "    n = 8\n",
    "    result_1 = leg_reduce(a, b, sigma)\n",
    "    result_2 = leg_reduce(c, d, sigma)\n",
    "    dis = distance(result_1, result_2)\n",
    "    print('Actual distance: ', round(dis, 8))\n",
    "    print('Assigned sigma: ', sigma)\n",
    "    if round(dis, n) == sigma:\n",
    "        print('Result match!\\n')\n",
    "    else:\n",
    "        print('Result does not match!\\n')\n",
    "\n",
    "if __name__ == '__main__':\n",
    "    coord = COM_leg_gen(radius = 30)\n",
    "    leg_reduce_valid(coord[0][0], coord[0][1], coord[1][0], coord[1][1], 1)\n",
    "    leg_reduce_valid(coord[2][0], coord[2][2], coord[14][0], coord[14][1], 2)\n",
    "    leg_reduce_valid(coord[7][0], coord[7][1], coord[5][0], coord[5][1], 5)"
   ]
  },
  {
   "cell_type": "code",
   "execution_count": 7,
   "id": "98bfc976",
   "metadata": {},
   "outputs": [
    {
     "name": "stdout",
     "output_type": "stream",
     "text": [
      "radius =  30\n",
      "Number of elements in list:  20 (should be 20)\n",
      "\n",
      "[array([ 0.        , 28.02517077, 10.70466269]), [0.0, 28.02517077, 0.5], [8.25574554, 22.92283942, 13.85807689], [-8.25574554, 22.92283942, 13.85807689]] \n",
      "\n",
      "[array([  0.        ,  28.02517077, -10.70466269]), [0.0, 28.02517077, -0.5], [8.25574554, 22.92283942, -13.85807689], [-8.25574554, 22.92283942, -13.85807689]] \n",
      "\n",
      "[array([  0.        , -28.02517077,  10.70466269]), [0.0, -28.02517077, 0.5], [8.25574554, -22.92283942, 13.85807689], [-8.25574554, -22.92283942, 13.85807689]] \n",
      "\n",
      "[array([  0.        , -28.02517077, -10.70466269]), [0.0, -28.02517077, -0.5], [8.25574554, -22.92283942, -13.85807689], [-8.25574554, -22.92283942, -13.85807689]] \n",
      "\n",
      "[array([10.70466269,  0.        , 28.02517077]), [0.5, 0.0, 28.02517077], [13.85807689, 8.25574554, 22.92283942], [13.85807689, -8.25574554, 22.92283942]] \n",
      "\n",
      "[array([ 10.70466269,   0.        , -28.02517077]), [0.5, 0.0, -28.02517077], [13.85807689, 8.25574554, -22.92283942], [13.85807689, -8.25574554, -22.92283942]] \n",
      "\n",
      "[array([-10.70466269,   0.        ,  28.02517077]), [-0.5, 0.0, 28.02517077], [-13.85807689, 8.25574554, 22.92283942], [-13.85807689, -8.25574554, 22.92283942]] \n",
      "\n",
      "[array([-10.70466269,   0.        , -28.02517077]), [-0.5, 0.0, -28.02517077], [-13.85807689, 8.25574554, -22.92283942], [-13.85807689, -8.25574554, -22.92283942]] \n",
      "\n",
      "[array([28.02517077, 10.70466269,  0.        ]), [28.02517077, 0.5, 0.0], [22.92283942, 13.85807689, 8.25574554], [22.92283942, 13.85807689, -8.25574554]] \n",
      "\n",
      "[array([ 28.02517077, -10.70466269,   0.        ]), [28.02517077, -0.5, 0.0], [22.92283942, -13.85807689, 8.25574554], [22.92283942, -13.85807689, -8.25574554]] \n",
      "\n",
      "[array([-28.02517077,  10.70466269,   0.        ]), [-28.02517077, 0.5, 0.0], [-22.92283942, 13.85807689, 8.25574554], [-22.92283942, 13.85807689, -8.25574554]] \n",
      "\n",
      "[array([-28.02517077, -10.70466269,   0.        ]), [-28.02517077, -0.5, 0.0], [-22.92283942, -13.85807689, 8.25574554], [-22.92283942, -13.85807689, -8.25574554]] \n",
      "\n",
      "[array([17.32050808, 17.32050808, 17.32050808]), [9.06476253, 22.42283942, 14.16709388], [14.16709388, 9.06476253, 22.42283942], [22.42283942, 14.16709388, 9.06476253]] \n",
      "\n",
      "[array([ 17.32050808,  17.32050808, -17.32050808]), [9.06476253, 22.42283942, -14.16709388], [14.16709388, 9.06476253, -22.42283942], [22.42283942, 14.16709388, -9.06476253]] \n",
      "\n",
      "[array([ 17.32050808, -17.32050808,  17.32050808]), [9.06476253, -22.42283942, 14.16709388], [14.16709388, -9.06476253, 22.42283942], [22.42283942, -14.16709388, 9.06476253]] \n",
      "\n",
      "[array([ 17.32050808, -17.32050808, -17.32050808]), [9.06476253, -22.42283942, -14.16709388], [14.16709388, -9.06476253, -22.42283942], [22.42283942, -14.16709388, -9.06476253]] \n",
      "\n",
      "[array([-17.32050808,  17.32050808,  17.32050808]), [-9.06476253, 22.42283942, 14.16709388], [-14.16709388, 9.06476253, 22.42283942], [-22.42283942, 14.16709388, 9.06476253]] \n",
      "\n",
      "[array([-17.32050808,  17.32050808, -17.32050808]), [-9.06476253, 22.42283942, -14.16709388], [-14.16709388, 9.06476253, -22.42283942], [-22.42283942, 14.16709388, -9.06476253]] \n",
      "\n",
      "[array([-17.32050808, -17.32050808,  17.32050808]), [-9.06476253, -22.42283942, 14.16709388], [-14.16709388, -9.06476253, 22.42283942], [-22.42283942, -14.16709388, 9.06476253]] \n",
      "\n",
      "[array([-17.32050808, -17.32050808, -17.32050808]), [-9.06476253, -22.42283942, -14.16709388], [-14.16709388, -9.06476253, -22.42283942], [-22.42283942, -14.16709388, -9.06476253]] \n",
      "\n"
     ]
    }
   ],
   "source": [
    "def leg_reduce_coor_gen(radius, sigma):\n",
    "    # Generating all the coords of COM and legs when sigma exists\n",
    "    COM_leg_list = COM_leg_gen(radius)\n",
    "    COM_leg_red_list = []\n",
    "    for elements in COM_leg_list:\n",
    "        temp_list = []\n",
    "        temp_list.append(elements[0])\n",
    "        i = 1\n",
    "        while i <= 3:\n",
    "            temp_list.append(leg_reduce(elements[0], elements[i], sigma))\n",
    "            i += 1\n",
    "        COM_leg_red_list.append(temp_list)\n",
    "    print('Number of elements in list: ', len(COM_leg_red_list), '(should be 20)\\n')\n",
    "    return COM_leg_red_list\n",
    "\n",
    "if __name__ == '__main__':\n",
    "    result = leg_reduce_coor_gen(radius = 30, sigma = 1)\n",
    "    for i in result:\n",
    "        print(i, '\\n')"
   ]
  },
  {
   "cell_type": "code",
   "execution_count": 8,
   "id": "19e4fca6",
   "metadata": {},
   "outputs": [
    {
     "name": "stdout",
     "output_type": "stream",
     "text": [
      "radius =  30\n",
      "Number of elements in list:  20 (should be 20)\n",
      "\n"
     ]
    },
    {
     "data": {
      "image/png": "[encoded data removed]",
      "text/plain": [
       "<Figure size 432x288 with 1 Axes>"
      ]
     },
     "metadata": {
      "needs_background": "light"
     },
     "output_type": "display_data"
    }
   ],
   "source": [
    "from mpl_toolkits.mplot3d import axes3d  \n",
    "import matplotlib.pyplot as plt  \n",
    " \n",
    "# visualize the model\n",
    "def sig_vis(list, ax):\n",
    "    for i in range(1, 4):\n",
    "        figure = ax.plot([list[0][0], list[i][0]], [list[0][1], list[i][1]], [list[0][2], list[i][2]])\n",
    "\n",
    "def vis(lst):\n",
    "    fig = plt.figure(1)  \n",
    "    ax = fig.gca(projection='3d')\n",
    "    for element in lst:\n",
    "        sig_vis(element, ax) \n",
    "    plt.show()\n",
    "\n",
    "if __name__ == '__main__':\n",
    "    lst = leg_reduce_coor_gen(radius = 30, sigma = 1)\n",
    "    vis(lst)"
   ]
  },
  {
   "cell_type": "code",
   "execution_count": 9,
   "id": "5fc28846",
   "metadata": {},
   "outputs": [
    {
     "name": "stdout",
     "output_type": "stream",
     "text": [
      "radius =  30\n",
      "Number of elements in list:  20 (should be 20)\n",
      "\n",
      "-----------------------\n",
      "theta1 =  1.0 pi\n",
      "theta2 =  1.0 pi\n",
      "phi1 =  nan pi\n",
      "phi2 =  nan pi\n",
      "omega =  0.0 pi\n",
      "COM1 =  [ 0.         28.02517077 10.70466269]\n",
      "COM2 =  [  0.          28.02517077 -10.70466269]\n",
      "leg1 =  [0.0, 28.02517077, 0.5]\n",
      "leg2 =  [0.0, 28.02517077, -0.5]\n",
      "c1 =  [ 0.         28.02517077 10.70466269]\n",
      "c2 =  [  0.          28.02517077 -10.70466269]\n",
      "[3.14159265, 3.14159265, nan, nan, 0.0]\n"
     ]
    }
   ],
   "source": [
    "import numpy as np\n",
    "\n",
    "# calculating the 5 angles according to the coords of legs and COM\n",
    "# see SI of the NERDSS paper II part for detail\n",
    "def angle_cal(COM1, leg1, COM2, leg2):\n",
    "    n = 8\n",
    "    c1 = np.array(COM1)\n",
    "    p1 = np.array(leg1)\n",
    "    c2 = np.array(COM2)\n",
    "    p2 = np.array(leg2)\n",
    "    v1 = p1 - c1\n",
    "    v2 = p2 - c2\n",
    "    sig1 = p1 - p2\n",
    "    sig2 = -sig1\n",
    "    theta1 = round(math.acos(np.dot(v1, sig1)/(np.linalg.norm(v1)*np.linalg.norm(sig1))), n)\n",
    "    theta2 = round(math.acos(np.dot(v2, sig2)/(np.linalg.norm(v2)*np.linalg.norm(sig2))), n)\n",
    "    print('-----------------------')\n",
    "    print('theta1 = ', round(theta1/math.pi, n), 'pi')\n",
    "    print('theta2 = ', round(theta2/math.pi, n), 'pi')\n",
    "\n",
    "    t1 = np.cross(v1, sig1)\n",
    "    t2 = np.cross(v1, c1) # n1 = c1 here\n",
    "    t1_hat = t1/np.linalg.norm(t1)\n",
    "    t2_hat = t2/np.linalg.norm(t2)\n",
    "    phi1 = round(math.acos(np.around(np.dot(t1_hat, t2_hat), n)), n)\n",
    "    t3 = np.cross(v2, sig2)\n",
    "    t4 = np.cross(v2, c2) # n2 = c2 here\n",
    "    t3_hat = t3/np.linalg.norm(t3)\n",
    "    t4_hat = t4/np.linalg.norm(t4)\n",
    "    phi2 = round(math.acos(np.around(np.dot(t3_hat, t4_hat), n)), n)\n",
    "    phi1 = nan\n",
    "    phi2 = nan\n",
    "    print('phi1 = ', round(phi1/math.pi, n), 'pi')\n",
    "    print('phi2 = ', round(phi2/math.pi, n), 'pi')\n",
    "\n",
    "    t1_ = np.cross(sig1, v1)\n",
    "    t2_ = np.cross(sig1, v2)\n",
    "    t1__hat = t1/np.linalg.norm(t1)\n",
    "    t2__hat = t2/np.linalg.norm(t2)\n",
    "    omega = round(math.acos(np.around(np.dot(t1__hat, t2__hat), n)), n)\n",
    "    print('omega = ', round(omega/math.pi, n), 'pi')\n",
    "    \n",
    "    print('COM1 = ', COM1)\n",
    "    print('COM2 = ', COM2)\n",
    "    print('leg1 = ', leg1)\n",
    "    print('leg2 = ', leg2)\n",
    "    print('c1 = ', c1)\n",
    "    print('c2 = ', c2)\n",
    "    \n",
    "    return [theta1, theta2, phi1, phi2, omega]\n",
    "\n",
    "if __name__ == '__main__':\n",
    "    coord = leg_reduce_coor_gen(radius = 30, sigma = 1)\n",
    "    print(angle_cal(coord[0][0], coord[0][1], coord[1][0], coord[1][1]))\n",
    "#     print(angle_cal(coord[2][0], coord[2][2], coord[14][0], coord[14][1]))\n",
    "#     print(angle_cal(coord[7][0], coord[7][1], coord[5][0], coord[5][1]))"
   ]
  },
  {
   "cell_type": "code",
   "execution_count": 10,
   "id": "2cc8ee2a",
   "metadata": {},
   "outputs": [
    {
     "name": "stdout",
     "output_type": "stream",
     "text": [
      "radius =  30\n",
      "Number of elements in list:  20 (should be 20)\n",
      "\n",
      "COM =  [0. 0. 0.]\n",
      "lg1 =  [ 0.00000000e+00  1.10000000e-09 -1.02046627e+01]\n",
      "lg2 =  [ 8.25574554 -5.10233135  3.1534142 ]\n",
      "lg3 =  [-8.25574554 -5.10233135  3.1534142 ]\n",
      "n   =  [0.         0.93417236 0.35682209]\n"
     ]
    }
   ],
   "source": [
    "# calculate coordinates of normalized COM and legs\n",
    "def input_coord(radius, sigma):\n",
    "\n",
    "    coor = leg_reduce_coor_gen(radius, sigma)\n",
    "    coor_ = np.array(coor[0])\n",
    "    COM = around(coor_[0] - coor_[0], 12)\n",
    "    lg1 = around(coor_[1] - coor_[0], 12)\n",
    "    lg2 = around(coor_[2] - coor_[0], 12)\n",
    "    lg3 = around(coor_[3] - coor_[0], 12)\n",
    "    n = around(coor_[0]/np.linalg.norm(coor_[0]), 12)\n",
    "    \n",
    "    print('COM = ', COM)\n",
    "    print('lg1 = ', lg1)\n",
    "    print('lg2 = ', lg2)\n",
    "    print('lg3 = ', lg3)\n",
    "    print('n   = ', n)\n",
    "    \n",
    "    return COM, lg1, lg2, lg3, n\n",
    "\n",
    "if __name__ == '__main__':\n",
    "    input_coord(radius = 30, sigma = 1)"
   ]
  },
  {
   "cell_type": "code",
   "execution_count": 11,
   "id": "d4c36e78",
   "metadata": {},
   "outputs": [
    {
     "name": "stdout",
     "output_type": "stream",
     "text": [
      "radius =  30\n",
      "Number of elements in list:  20 (should be 20)\n",
      "\n",
      "COM =  [0. 0. 0.]\n",
      "lg1 =  [ 0.00000000e+00  1.10000000e-09 -1.02046627e+01]\n",
      "lg2 =  [ 8.25574554 -5.10233135  3.1534142 ]\n",
      "lg3 =  [-8.25574554 -5.10233135  3.1534142 ]\n",
      "n   =  [0.         0.93417236 0.35682209]\n"
     ]
    },
    {
     "data": {
      "image/png": "[encoded data removed]",
      "text/plain": [
       "<Figure size 432x288 with 1 Axes>"
      ]
     },
     "metadata": {
      "needs_background": "light"
     },
     "output_type": "display_data"
    }
   ],
   "source": [
    "def sig_vis2(list, ax, n):\n",
    "    for i in range(1, 4):\n",
    "        figure = ax.plot([list[0][0], list[i][0]], [list[0][1], list[i][1]], [list[0][2], list[i][2]])\n",
    "    figure = ax.plot([n[0], list[0][0]], [n[1], list[0][1]], [n[2], list[0][2]])\n",
    "        \n",
    "def vis2(lst, n):\n",
    "    fig = plt.figure(1)  \n",
    "    ax = fig.gca(projection='3d')\n",
    "    for element in lst:\n",
    "        sig_vis2(element, ax, n) \n",
    "    plt.show()\n",
    "\n",
    "if __name__ == '__main__':\n",
    "    COM, lg1, lg2, lg3, n = input_coord(radius = 30, sigma = 1)\n",
    "    vis2([[COM, lg1, lg2, lg3]], n)"
   ]
  },
  {
   "cell_type": "code",
   "execution_count": 15,
   "id": "8f146df9",
   "metadata": {},
   "outputs": [
    {
     "name": "stdout",
     "output_type": "stream",
     "text": [
      "radius =  30\n",
      "Number of elements in list:  20 (should be 20)\n",
      "\n",
      "COM =  [0. 0. 0.]\n",
      "lg1 =  [ 0.00000000e+00  1.10000000e-09 -1.02046627e+01]\n",
      "lg2 =  [ 8.25574554 -5.10233135  3.1534142 ]\n",
      "lg3 =  [-8.25574554 -5.10233135  3.1534142 ]\n",
      "n   =  [0.         0.93417236 0.35682209]\n",
      "---------------------------------------------------\n",
      "Final input coord:\n",
      "COM =  [0 0 0]\n",
      "lg1 =  [-8.25574554 -4.76645691 -3.64124906]\n",
      "lg2 =  [ 8.25574554 -4.76645691 -3.64124906]\n",
      "lg3 =  [ 0.          9.53291382 -3.64124906]\n",
      "n =  [0 0 1]\n"
     ]
    }
   ],
   "source": [
    "def norm_input(radius, sigma):\n",
    "    COM, lg1, lg2, lg3, n = input_coord(radius, sigma)\n",
    "    length = distance(lg1, lg2)\n",
    "\n",
    "    dis1 = ((-length/2)**2+(-((length/2)*(3**0.5))/3)**2)**0.5\n",
    "    dis2 = distance(COM, lg1)\n",
    "\n",
    "    height = (dis2**2-dis1**2)**0.5\n",
    "\n",
    "    lg1_ = np.array([-length/2, -((length/2)*(3**0.5))/3, -height])\n",
    "    lg2_ = np.array([length/2, -((length/2)*(3**0.5))/3, -height])\n",
    "    lg3_ = np.array([0, ((length/2)*(3**0.5))/3*2, -height])\n",
    "    COM_ = np.array([0, 0, 0])\n",
    "    n_ = np.array([0, 0, 1])\n",
    "\n",
    "    print('---------------------------------------------------')\n",
    "    print('Final input coord:')\n",
    "\n",
    "    print('COM = ', COM_)\n",
    "    print('lg1 = ', lg1_)\n",
    "    print('lg2 = ', lg2_)\n",
    "    print('lg3 = ', lg3_)\n",
    "    print('n = ', n_)\n",
    "\n",
    "    return COM_, lg1_, lg2_, lg3_, n_\n",
    "\n",
    "if __name__ == '__main__':\n",
    "    norm_input(radius = 30, sigma = 1)"
   ]
  },
  {
   "cell_type": "code",
   "execution_count": 18,
   "id": "ae1d1b7c",
   "metadata": {},
   "outputs": [
    {
     "name": "stdout",
     "output_type": "stream",
     "text": [
      "radius =  30\n",
      "Number of elements in list:  20 (should be 20)\n",
      "\n",
      "COM =  [0. 0. 0.]\n",
      "lg1 =  [ 0.00000000e+00  1.10000000e-09 -1.02046627e+01]\n",
      "lg2 =  [ 8.25574554 -5.10233135  3.1534142 ]\n",
      "lg3 =  [-8.25574554 -5.10233135  3.1534142 ]\n",
      "n   =  [0.         0.93417236 0.35682209]\n",
      "---------------------------------------------------\n",
      "Final input coord:\n",
      "COM =  [0 0 0]\n",
      "lg1 =  [-8.25574554 -4.76645691 -3.64124906]\n",
      "lg2 =  [ 8.25574554 -4.76645691 -3.64124906]\n",
      "lg3 =  [ 0.          9.53291382 -3.64124906]\n",
      "n =  [0 0 1]\n"
     ]
    },
    {
     "data": {
      "image/png": "[encoded data removed]",
      "text/plain": [
       "<Figure size 432x288 with 1 Axes>"
      ]
     },
     "metadata": {
      "needs_background": "light"
     },
     "output_type": "display_data"
    }
   ],
   "source": [
    "if __name__ == '__main__':\n",
    "    COM, lg1, lg2, lg3, n = norm_input(radius = 30, sigma = 1)\n",
    "    vis2([[COM, lg1, lg2, lg3]], n)"
   ]
  },
  {
   "cell_type": "code",
   "execution_count": 19,
   "id": "85d81304",
   "metadata": {},
   "outputs": [
    {
     "name": "stdout",
     "output_type": "stream",
     "text": [
      "59.999762582030264\n"
     ]
    }
   ],
   "source": [
    "print(distance([-101.256, -35.6524, 72.8312],[-56.4397, -16.4699, 37.8526]))"
   ]
  },
  {
   "cell_type": "code",
   "execution_count": null,
   "id": "b48a46f4",
   "metadata": {},
   "outputs": [],
   "source": []
  }
 ],
 "metadata": {
  "kernelspec": {
   "display_name": "Python 3",
   "language": "python",
   "name": "python3"
  },
  "language_info": {
   "codemirror_mode": {
    "name": "ipython",
    "version": 3
   },
   "file_extension": ".py",
   "mimetype": "text/x-python",
   "name": "python",
   "nbconvert_exporter": "python",
   "pygments_lexer": "ipython3",
   "version": "3.8.8"
  }
 },
 "nbformat": 4,
 "nbformat_minor": 5
}
