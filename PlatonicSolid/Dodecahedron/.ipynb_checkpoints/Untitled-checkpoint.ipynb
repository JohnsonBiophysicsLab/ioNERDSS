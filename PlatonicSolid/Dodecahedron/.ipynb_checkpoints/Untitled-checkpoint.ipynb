{
 "cells": [
  {
   "cell_type": "code",
   "execution_count": 1,
   "id": "411093a7",
   "metadata": {},
   "outputs": [],
   "source": [
    "#Tutorial for building some NERDSS input models"
   ]
  },
  {
   "cell_type": "code",
   "execution_count": 5,
   "id": "aceadaa5",
   "metadata": {},
   "outputs": [
    {
     "ename": "SyntaxError",
     "evalue": "invalid syntax (<ipython-input-5-e79b2f67a88d>, line 3)",
     "output_type": "error",
     "traceback": [
      "\u001b[0;36m  File \u001b[0;32m\"<ipython-input-5-e79b2f67a88d>\"\u001b[0;36m, line \u001b[0;32m3\u001b[0m\n\u001b[0;31m    import * from Face\u001b[0m\n\u001b[0m           ^\u001b[0m\n\u001b[0;31mSyntaxError\u001b[0m\u001b[0;31m:\u001b[0m invalid syntax\n"
     ]
    }
   ],
   "source": [
    "import matplotlib \n",
    "import matplotlib.pyplot as plt\n",
    "import platonics"
   ]
  },
  {
   "cell_type": "code",
   "execution_count": null,
   "id": "e57fc181",
   "metadata": {},
   "outputs": [],
   "source": [
    "dode_face_main(10, 1)"
   ]
  }
 ],
 "metadata": {
  "kernelspec": {
   "display_name": "Python 3",
   "language": "python",
   "name": "python3"
  },
  "language_info": {
   "codemirror_mode": {
    "name": "ipython",
    "version": 3
   },
   "file_extension": ".py",
   "mimetype": "text/x-python",
   "name": "python",
   "nbconvert_exporter": "python",
   "pygments_lexer": "ipython3",
   "version": "3.8.8"
  }
 },
 "nbformat": 4,
 "nbformat_minor": 5
}
