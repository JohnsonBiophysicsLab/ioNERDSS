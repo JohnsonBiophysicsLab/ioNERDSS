{
 "cells": [
  {
   "cell_type": "code",
   "execution_count": 1,
   "id": "c0fe14ee",
   "metadata": {},
   "outputs": [
    {
     "name": "stdout",
     "output_type": "stream",
     "text": [
      "[[0.0, 23.657900045361014, 38.2792863758418], [0.0, 23.657900045361014, -38.2792863758418], [0.0, -23.657900045361014, 38.2792863758418], [0.0, -23.657900045361014, -38.2792863758418], [23.657900045361014, 38.2792863758418, 0.0], [23.657900045361014, -38.2792863758418, 0.0], [-23.657900045361014, 38.2792863758418, 0.0], [-23.657900045361014, -38.2792863758418, 0.0], [38.2792863758418, 0.0, 23.657900045361014], [38.2792863758418, 0.0, -23.657900045361014], [-38.2792863758418, 0.0, 23.657900045361014], [-38.2792863758418, 0.0, -23.657900045361014]]\n"
     ]
    }
   ],
   "source": [
    "import math\n",
    "def vert_coord(radius):\n",
    "    \n",
    "    scaler = radius/(2*math.sin(2*math.pi/5))\n",
    "    m = (1+5**0.5)/2\n",
    "    v0 = [0, 1, m]\n",
    "    v1 = [0, 1, -m]\n",
    "    v2 = [0, -1, m]\n",
    "    v3 = [0, -1, -m]\n",
    "    v4 = [1, m, 0]\n",
    "    v5 = [1, -m, 0]\n",
    "    v6 = [-1, m, 0]\n",
    "    v7 = [-1, -m, 0]\n",
    "    v8 = [m, 0, 1]\n",
    "    v9 = [m, 0, -1]\n",
    "    v10 = [-m, 0, 1]\n",
    "    v11 = [-m, 0, -1]\n",
    "    VertCoord = [v0, v1, v2, v3, v4, v5, v6, v7, v8, v9, v10, v11]\n",
    "    VertCoord_ = []\n",
    "    for i in VertCoord:\n",
    "        temp_list = []\n",
    "        for j in i:\n",
    "            temp = j*scaler\n",
    "            temp_list.append(temp)\n",
    "        VertCoord_.append(temp_list)\n",
    "    return VertCoord_\n",
    "\n",
    "if __name__ == '__main__':\n",
    "    print(vert_coord(radius = 45))"
   ]
  },
  {
   "cell_type": "code",
   "execution_count": 2,
   "id": "b4dad47d",
   "metadata": {},
   "outputs": [
    {
     "name": "stdout",
     "output_type": "stream",
     "text": [
      "radius =  45.0\n",
      "edge length =  76.5585727516836\n"
     ]
    }
   ],
   "source": [
    "def distance(a, b):\n",
    "    # a seperated function for calculating the distance between two coordinates\n",
    "    n = 15\n",
    "    return round(((a[0] - b[0])**2 + (a[1] - b[1])**2 + (a[2] - b[2])**2)**0.5, n)\n",
    "\n",
    "if __name__ == '__main__':\n",
    "    coord = vert_coord(radius = 45)\n",
    "    print('radius = ', distance([0, 0, 0], coord[0]))\n",
    "    print('edge length = ', distance(coord[0], coord[1]))"
   ]
  },
  {
   "cell_type": "code",
   "execution_count": 3,
   "id": "1b04fbc1",
   "metadata": {},
   "outputs": [
    {
     "name": "stdout",
     "output_type": "stream",
     "text": [
      "[2.5, 3.5, 4.5]\n"
     ]
    }
   ],
   "source": [
    "def mid_pt(a, b):\n",
    "    # this is a seperate function for calculating mid point of two coords\n",
    "    n = 15\n",
    "    return [round((a[0]+b[0])/2, n), round((a[1]+b[1])/2, n), round((a[2]+b[2])/2, n)]\n",
    "\n",
    "if __name__ == '__main__':\n",
    "    print(mid_pt([1, 2, 3], [4, 5, 6]))"
   ]
  },
  {
   "cell_type": "code",
   "execution_count": 4,
   "id": "158dc068",
   "metadata": {},
   "outputs": [
    {
     "name": "stdout",
     "output_type": "stream",
     "text": [
      "[array([ 0.        , 23.65790005, 38.27928638]), array([ 0.        ,  0.        , 38.27928638]), array([19.13964319, 11.82895002, 30.96859321]), array([11.82895002, 30.96859321, 19.13964319]), array([-11.82895002,  30.96859321,  19.13964319]), array([-19.13964319,  11.82895002,  30.96859321])]\n"
     ]
    }
   ],
   "source": [
    "from numpy import *\n",
    "\n",
    "def COM_leg(COM, a, b, c, d, e):\n",
    "    lega = mid_pt(COM, a)\n",
    "    legb = mid_pt(COM, b)\n",
    "    legc = mid_pt(COM, c)\n",
    "    legd = mid_pt(COM, d)\n",
    "    lege = mid_pt(COM, e)\n",
    "    result = [around(COM, 10), around(lega, 10), around(legb, 10), around(legc, 10), around(legd, 10), around(lege, 10)]\n",
    "    return result\n",
    "\n",
    "if __name__ == '__main__':\n",
    "    coord = vert_coord(radius = 45)\n",
    "    print(COM_leg(coord[0], coord[2], coord[8], coord[4], coord[6], coord[10]))"
   ]
  },
  {
   "cell_type": "code",
   "execution_count": 5,
   "id": "2108c340",
   "metadata": {},
   "outputs": [
    {
     "name": "stdout",
     "output_type": "stream",
     "text": [
      "Number of leg =  30 (should be 30)\n"
     ]
    }
   ],
   "source": [
    "def COM_leg_gen(radius):\n",
    "    coord = vert_coord(radius)\n",
    "    COM_leg_list = []\n",
    "    COM_leg_list.append(COM_leg(coord[0], coord[2], coord[8], coord[4], coord[6], coord[10]))\n",
    "    COM_leg_list.append(COM_leg(coord[1], coord[4], coord[6], coord[11], coord[3], coord[9]))\n",
    "    COM_leg_list.append(COM_leg(coord[2], coord[0], coord[10], coord[7], coord[5], coord[8]))\n",
    "    COM_leg_list.append(COM_leg(coord[3], coord[1], coord[11], coord[7], coord[5], coord[9]))\n",
    "    COM_leg_list.append(COM_leg(coord[4], coord[0], coord[6], coord[1], coord[9], coord[8]))\n",
    "    COM_leg_list.append(COM_leg(coord[5], coord[2], coord[8], coord[7], coord[3], coord[9]))\n",
    "    COM_leg_list.append(COM_leg(coord[6], coord[0], coord[10], coord[11], coord[1], coord[4]))\n",
    "    COM_leg_list.append(COM_leg(coord[7], coord[3], coord[11], coord[10], coord[2], coord[5]))\n",
    "    COM_leg_list.append(COM_leg(coord[8], coord[0], coord[2], coord[5], coord[9], coord[4]))\n",
    "    COM_leg_list.append(COM_leg(coord[9], coord[8], coord[4], coord[1], coord[3], coord[5]))\n",
    "    COM_leg_list.append(COM_leg(coord[10], coord[0], coord[2], coord[7], coord[11], coord[6]))\n",
    "    COM_leg_list.append(COM_leg(coord[11], coord[10], coord[7], coord[3], coord[1], coord[6]))\n",
    "    \n",
    "    return COM_leg_list\n",
    "\n",
    "def COM_leg_valid(radius):\n",
    "    COM_leg_list = COM_leg_gen(radius)\n",
    "    leg_pool = []\n",
    "    count = 0\n",
    "    for i in COM_leg_list:\n",
    "        for j in range(len(i)):\n",
    "            if j != 0:\n",
    "                if list(i[j]) not in leg_pool:\n",
    "                    count += 1\n",
    "                    leg_pool.append(list(i[j]))\n",
    "    print('Number of leg = ', count, '(should be 30)')\n",
    "\n",
    "if __name__ == '__main__':\n",
    "    COM_leg_valid(radius = 45)"
   ]
  },
  {
   "cell_type": "code",
   "execution_count": 6,
   "id": "d91791d6",
   "metadata": {},
   "outputs": [
    {
     "name": "stdout",
     "output_type": "stream",
     "text": [
      "Actual distance:  1.0\n",
      "Assigned sigma:  1\n",
      "Result match!\n",
      "\n",
      "Actual distance:  2.0\n",
      "Assigned sigma:  2\n",
      "Result does not match!\n",
      "\n",
      "Actual distance:  5.0\n",
      "Assigned sigma:  5\n",
      "Result does not match!\n",
      "\n"
     ]
    }
   ],
   "source": [
    "def leg_reduce(COM, leg, sigma):   \n",
    "    red_len = sigma/2\n",
    "    ratio = 1 - red_len/distance(COM, leg)\n",
    "    leg_red = []\n",
    "    for i in range(0, 3):\n",
    "        leg_red.append(round((leg[i] - COM[i])*ratio + COM[i], 8))\n",
    "    return leg_red\n",
    "                \n",
    "def leg_reduce_valid(a, b, c, d, sigma):\n",
    "    # validate the reduced length of legs is correct\n",
    "    n = 10\n",
    "    result_1 = leg_reduce(a, b, sigma)\n",
    "    result_2 = leg_reduce(c, d, sigma)\n",
    "    dis = distance(result_1, result_2)\n",
    "    print('Actual distance: ', round(dis, 8))\n",
    "    print('Assigned sigma: ', sigma)\n",
    "    if round(dis, n) == sigma:\n",
    "        print('Result match!\\n')\n",
    "    else:\n",
    "        print('Result does not match!\\n')\n",
    "\n",
    "if __name__ == '__main__':\n",
    "    coord = COM_leg_gen(radius = 45)\n",
    "    leg_reduce_valid(coord[0][0], coord[0][1], coord[2][0], coord[2][1], 1)\n",
    "    leg_reduce_valid(coord[3][0], coord[3][4], coord[5][0], coord[5][4], 2)\n",
    "    leg_reduce_valid(coord[7][0], coord[7][2], coord[11][0], coord[11][2], 5)"
   ]
  },
  {
   "cell_type": "code",
   "execution_count": 8,
   "id": "ed1623a5",
   "metadata": {},
   "outputs": [
    {
     "name": "stdout",
     "output_type": "stream",
     "text": [
      "Number of elements in list:  12 (should be 12)\n",
      "\n",
      "[array([ 0.        , 23.65790005, 38.27928638]), [0.0, 0.5, 38.27928638], [18.73513469, 12.07895002, 31.12310171], [11.57895002, 30.81408471, 19.54415169], [-11.57895002, 30.81408471, 19.54415169], [-18.73513469, 12.07895002, 31.12310171]] \n",
      "\n",
      "[array([  0.        ,  23.65790005, -38.27928638]), [11.57895002, 30.81408471, -19.54415169], [-11.57895002, 30.81408471, -19.54415169], [-18.73513469, 12.07895002, -31.12310171], [0.0, 0.5, -38.27928638], [18.73513469, 12.07895002, -31.12310171]] \n",
      "\n",
      "[array([  0.        , -23.65790005,  38.27928638]), [0.0, -0.5, 38.27928638], [-18.73513469, -12.07895002, 31.12310171], [-11.57895002, -30.81408471, 19.54415169], [11.57895002, -30.81408471, 19.54415169], [18.73513469, -12.07895002, 31.12310171]] \n",
      "\n",
      "[array([  0.        , -23.65790005, -38.27928638]), [0.0, -0.5, -38.27928638], [-18.73513469, -12.07895002, -31.12310171], [-11.57895002, -30.81408471, -19.54415169], [11.57895002, -30.81408471, -19.54415169], [18.73513469, -12.07895002, -31.12310171]] \n",
      "\n",
      "[array([23.65790005, 38.27928638,  0.        ]), [12.07895002, 31.12310171, 18.73513469], [0.5, 38.27928638, 0.0], [12.07895002, 31.12310171, -18.73513469], [30.81408471, 19.54415169, -11.57895002], [30.81408471, 19.54415169, 11.57895002]] \n",
      "\n",
      "[array([ 23.65790005, -38.27928638,   0.        ]), [12.07895002, -31.12310171, 18.73513469], [30.81408471, -19.54415169, 11.57895002], [0.5, -38.27928638, 0.0], [12.07895002, -31.12310171, -18.73513469], [30.81408471, -19.54415169, -11.57895002]] \n",
      "\n",
      "[array([-23.65790005,  38.27928638,   0.        ]), [-12.07895002, 31.12310171, 18.73513469], [-30.81408471, 19.54415169, 11.57895002], [-30.81408471, 19.54415169, -11.57895002], [-12.07895002, 31.12310171, -18.73513469], [-0.5, 38.27928638, 0.0]] \n",
      "\n",
      "[array([-23.65790005, -38.27928638,   0.        ]), [-12.07895002, -31.12310171, -18.73513469], [-30.81408471, -19.54415169, -11.57895002], [-30.81408471, -19.54415169, 11.57895002], [-12.07895002, -31.12310171, 18.73513469], [-0.5, -38.27928638, 0.0]] \n",
      "\n",
      "[array([38.27928638,  0.        , 23.65790005]), [19.54415169, 11.57895002, 30.81408471], [19.54415169, -11.57895002, 30.81408471], [31.12310171, -18.73513469, 12.07895002], [38.27928638, 0.0, 0.5], [31.12310171, 18.73513469, 12.07895002]] \n",
      "\n",
      "[array([ 38.27928638,   0.        , -23.65790005]), [38.27928638, 0.0, -0.5], [31.12310171, 18.73513469, -12.07895002], [19.54415169, 11.57895002, -30.81408471], [19.54415169, -11.57895002, -30.81408471], [31.12310171, -18.73513469, -12.07895002]] \n",
      "\n",
      "[array([-38.27928638,   0.        ,  23.65790005]), [-19.54415169, 11.57895002, 30.81408471], [-19.54415169, -11.57895002, 30.81408471], [-31.12310171, -18.73513469, 12.07895002], [-38.27928638, 0.0, 0.5], [-31.12310171, 18.73513469, 12.07895002]] \n",
      "\n",
      "[array([-38.27928638,   0.        , -23.65790005]), [-38.27928638, 0.0, -0.5], [-31.12310171, -18.73513469, -12.07895002], [-19.54415169, -11.57895002, -30.81408471], [-19.54415169, 11.57895002, -30.81408471], [-31.12310171, 18.73513469, -12.07895002]] \n",
      "\n"
     ]
    }
   ],
   "source": [
    "def leg_reduce_coor_gen(radius, sigma):\n",
    "    # Generating all the coords of COM and legs when sigma exists\n",
    "    COM_leg_list = COM_leg_gen(radius)\n",
    "    COM_leg_red_list = []\n",
    "    for elements in COM_leg_list:\n",
    "        temp_list = []\n",
    "        temp_list.append(elements[0])\n",
    "        i = 1\n",
    "        while i <= 5:\n",
    "            temp_list.append(leg_reduce(elements[0], elements[i], sigma))\n",
    "            i += 1\n",
    "        COM_leg_red_list.append(temp_list)\n",
    "    print('Number of elements in list: ', len(COM_leg_red_list), '(should be 12)\\n')\n",
    "    return COM_leg_red_list\n",
    "\n",
    "if __name__ == '__main__':\n",
    "    result = leg_reduce_coor_gen(radius = 45, sigma = 1)\n",
    "    for i in result:\n",
    "        print(i, '\\n')"
   ]
  },
  {
   "cell_type": "code",
   "execution_count": 9,
   "id": "c0ac08f6",
   "metadata": {},
   "outputs": [
    {
     "name": "stdout",
     "output_type": "stream",
     "text": [
      "Number of elements in list:  12 (should be 12)\n",
      "\n"
     ]
    },
    {
     "data": {
      "image/png": "[encoded data removed]",
      "text/plain": [
       "<Figure size 432x288 with 1 Axes>"
      ]
     },
     "metadata": {
      "needs_background": "light"
     },
     "output_type": "display_data"
    }
   ],
   "source": [
    "from mpl_toolkits.mplot3d import axes3d  \n",
    "import matplotlib.pyplot as plt  \n",
    " \n",
    "# visualize the model\n",
    "def sig_vis(list, ax):\n",
    "    for i in range(1, 6):\n",
    "        figure = ax.plot([list[0][0], list[i][0]], [list[0][1], list[i][1]], [list[0][2], list[i][2]])\n",
    "\n",
    "def vis(lst):\n",
    "    fig = plt.figure(1)  \n",
    "    ax = fig.gca(projection='3d')\n",
    "    for element in lst:\n",
    "        sig_vis(element, ax) \n",
    "    plt.show()\n",
    "\n",
    "if __name__ == '__main__':\n",
    "    lst = leg_reduce_coor_gen(radius = 45, sigma = 1)\n",
    "    vis(lst)"
   ]
  },
  {
   "cell_type": "code",
   "execution_count": 10,
   "id": "58e10452",
   "metadata": {},
   "outputs": [
    {
     "name": "stdout",
     "output_type": "stream",
     "text": [
      "Number of elements in list:  12 (should be 12)\n",
      "\n",
      "-----------------------\n",
      "theta1 =  1.0 pi\n",
      "theta2 =  1.0 pi\n",
      "phi1 =  0.0 pi\n",
      "phi2 =  0.0 pi\n",
      "omega =  0.0 pi\n",
      "COM1 =  [ 0.         23.65790005 38.27928638]\n",
      "COM2 =  [  0.         -23.65790005  38.27928638]\n",
      "leg1 =  [0.0, 0.5, 38.27928638]\n",
      "leg2 =  [0.0, -0.5, 38.27928638]\n",
      "c1 =  [ 0.         23.65790005 38.27928638]\n",
      "c2 =  [  0.         -23.65790005  38.27928638]\n",
      "[3.14159265, 3.14159265, 0.0, 0.0, 0.0]\n"
     ]
    }
   ],
   "source": [
    "import numpy as np\n",
    "\n",
    "# calculating the 5 angles according to the coords of legs and COM\n",
    "# see SI of the NERDSS paper II part for detail\n",
    "def angle_cal(COM1, leg1, COM2, leg2):\n",
    "    n = 8\n",
    "    c1 = np.array(COM1)\n",
    "    p1 = np.array(leg1)\n",
    "    c2 = np.array(COM2)\n",
    "    p2 = np.array(leg2)\n",
    "    v1 = p1 - c1\n",
    "    v2 = p2 - c2\n",
    "    sig1 = p1 - p2\n",
    "    sig2 = -sig1\n",
    "    theta1 = round(math.acos(np.dot(v1, sig1)/(np.linalg.norm(v1)*np.linalg.norm(sig1))), n)\n",
    "    theta2 = round(math.acos(np.dot(v2, sig2)/(np.linalg.norm(v2)*np.linalg.norm(sig2))), n)\n",
    "    print('-----------------------')\n",
    "    print('theta1 = ', round(theta1/math.pi, n), 'pi')\n",
    "    print('theta2 = ', round(theta2/math.pi, n), 'pi')\n",
    "\n",
    "    t1 = np.cross(v1, sig1)\n",
    "    t2 = np.cross(v1, c1) # n1 = c1 here\n",
    "    t1_hat = t1/np.linalg.norm(t1)\n",
    "    t2_hat = t2/np.linalg.norm(t2)\n",
    "    phi1 = round(math.acos(np.around(np.dot(t1_hat, t2_hat), n)), n)\n",
    "    t3 = np.cross(v2, sig2)\n",
    "    t4 = np.cross(v2, c2) # n2 = c2 here\n",
    "    t3_hat = t3/np.linalg.norm(t3)\n",
    "    t4_hat = t4/np.linalg.norm(t4)\n",
    "    phi2 = round(math.acos(np.around(np.dot(t3_hat, t4_hat), n)), n)\n",
    "    print('phi1 = ', round(phi1/math.pi, n), 'pi')\n",
    "    print('phi2 = ', round(phi2/math.pi, n), 'pi')\n",
    "\n",
    "    t1_ = np.cross(sig1, v1)\n",
    "    t2_ = np.cross(sig1, v2)\n",
    "    t1__hat = t1/np.linalg.norm(t1)\n",
    "    t2__hat = t2/np.linalg.norm(t2)\n",
    "    omega = round(math.acos(np.around(np.dot(t1__hat, t2__hat), n)), n)\n",
    "    print('omega = ', round(omega/math.pi, n), 'pi')\n",
    "    \n",
    "    print('COM1 = ', COM1)\n",
    "    print('COM2 = ', COM2)\n",
    "    print('leg1 = ', leg1)\n",
    "    print('leg2 = ', leg2)\n",
    "    print('c1 = ', c1)\n",
    "    print('c2 = ', c2)\n",
    "    \n",
    "    return [theta1, theta2, phi1, phi2, omega]\n",
    "\n",
    "if __name__ == '__main__':\n",
    "    coord = leg_reduce_coor_gen(radius = 45, sigma = 1)\n",
    "    print(angle_cal(coord[0][0], coord[0][1], coord[2][0], coord[2][1]))\n",
    "#     print(angle_cal(coord[2][0], coord[2][2], coord[14][0], coord[14][1]))\n",
    "#     print(angle_cal(coord[7][0], coord[7][1], coord[5][0], coord[5][1]))"
   ]
  },
  {
   "cell_type": "code",
   "execution_count": 11,
   "id": "fed9ba24",
   "metadata": {},
   "outputs": [
    {
     "name": "stdout",
     "output_type": "stream",
     "text": [
      "Number of elements in list:  12 (should be 12)\n",
      "\n",
      "COM =  [0. 0. 0.]\n",
      "lg1 =  [ 0.00000e+00 -2.31579e+01  4.20000e-09]\n",
      "lg2 =  [ 18.73513469 -11.57895003  -7.15618467]\n",
      "lg3 =  [ 11.57895002   7.15618466 -18.73513469]\n",
      "lg4 =  [-11.57895002   7.15618466 -18.73513469]\n",
      "lg5 =  [-18.73513469 -11.57895003  -7.15618467]\n",
      "n   =  [0.         0.52573111 0.85065081]\n"
     ]
    }
   ],
   "source": [
    "# calculate coordinates of normalized COM and legs\n",
    "def input_coord(radius, sigma):\n",
    "\n",
    "    coor = leg_reduce_coor_gen(radius, sigma)\n",
    "    coor_ = np.array(coor[0])\n",
    "    COM = around(coor_[0] - coor_[0], 12)\n",
    "    lg1 = around(coor_[1] - coor_[0], 12)\n",
    "    lg2 = around(coor_[2] - coor_[0], 12)\n",
    "    lg3 = around(coor_[3] - coor_[0], 12)\n",
    "    lg4 = around(coor_[4] - coor_[0], 12)\n",
    "    lg5 = around(coor_[5] - coor_[0], 12)\n",
    "    n = around(coor_[0]/np.linalg.norm(coor_[0]), 12)\n",
    "    \n",
    "    print('COM = ', COM)\n",
    "    print('lg1 = ', lg1)\n",
    "    print('lg2 = ', lg2)\n",
    "    print('lg3 = ', lg3)\n",
    "    print('lg4 = ', lg4)\n",
    "    print('lg5 = ', lg5)\n",
    "    print('n   = ', n)\n",
    "    \n",
    "    return COM, lg1, lg2, lg3, lg4, lg5, n\n",
    "\n",
    "if __name__ == '__main__':\n",
    "    input_coord(radius = 45, sigma = 1)"
   ]
  },
  {
   "cell_type": "code",
   "execution_count": 12,
   "id": "3ad13e19",
   "metadata": {},
   "outputs": [
    {
     "name": "stdout",
     "output_type": "stream",
     "text": [
      "Number of elements in list:  12 (should be 12)\n",
      "\n",
      "COM =  [0. 0. 0.]\n",
      "lg1 =  [ 0.00000e+00 -2.31579e+01  4.20000e-09]\n",
      "lg2 =  [ 18.73513469 -11.57895003  -7.15618467]\n",
      "lg3 =  [ 11.57895002   7.15618466 -18.73513469]\n",
      "lg4 =  [-11.57895002   7.15618466 -18.73513469]\n",
      "lg5 =  [-18.73513469 -11.57895003  -7.15618467]\n",
      "n   =  [0.         0.52573111 0.85065081]\n"
     ]
    },
    {
     "data": {
      "image/png": "[encoded data removed]",
      "text/plain": [
       "<Figure size 432x288 with 1 Axes>"
      ]
     },
     "metadata": {
      "needs_background": "light"
     },
     "output_type": "display_data"
    }
   ],
   "source": [
    "def sig_vis2(list, ax, n):\n",
    "    for i in range(1, 6):\n",
    "        figure = ax.plot([list[0][0], list[i][0]], [list[0][1], list[i][1]], [list[0][2], list[i][2]])\n",
    "    figure = ax.plot([n[0], list[0][0]], [n[1], list[0][1]], [n[2], list[0][2]])\n",
    "        \n",
    "def vis2(lst, n):\n",
    "    fig = plt.figure(1)  \n",
    "    ax = fig.gca(projection='3d')\n",
    "    for element in lst:\n",
    "        sig_vis2(element, ax, n) \n",
    "    plt.show()\n",
    "\n",
    "if __name__ == '__main__':\n",
    "    COM, lg1, lg2, lg3, lg4, lg5, n = input_coord(radius = 45, sigma = 1)\n",
    "    vis2([[COM, lg1, lg2, lg3, lg4, lg5]], n)"
   ]
  },
  {
   "cell_type": "code",
   "execution_count": 13,
   "id": "e3bbf3b9",
   "metadata": {},
   "outputs": [
    {
     "name": "stdout",
     "output_type": "stream",
     "text": [
      "Number of elements in list:  12 (should be 12)\n",
      "\n",
      "COM =  [0. 0. 0.]\n",
      "lg1 =  [ 0.00000e+00 -2.31579e+01  4.20000e-09]\n",
      "lg2 =  [ 18.73513469 -11.57895003  -7.15618467]\n",
      "lg3 =  [ 11.57895002   7.15618466 -18.73513469]\n",
      "lg4 =  [-11.57895002   7.15618466 -18.73513469]\n",
      "lg5 =  [-18.73513469 -11.57895003  -7.15618467]\n",
      "n   =  [0.         0.52573111 0.85065081]\n",
      "COM coordinates match!\n",
      "center =  [0.0, -6.4006861528494, -10.35652773890911]\n"
     ]
    }
   ],
   "source": [
    "import math\n",
    "\n",
    "def center_coor(a, b, c, d, e):\n",
    "    # calculate the center of mass(COM) according to 5 coords on the same face\n",
    "    n = 8\n",
    "    mid_a = mid_pt(c, d)\n",
    "    mid_b = mid_pt(d, e)\n",
    "    mid_c = mid_pt(a, e)\n",
    "    COM_a = []\n",
    "    COM_b = []\n",
    "    COM_c = []\n",
    "    # calculate 3 COM here and check if they are overlapped\n",
    "    for i in range(0, 3):\n",
    "        COM_a.append(round(a[i] + (mid_a[i] - a[i])/(1+math.sin(0.3*math.pi)), 14))\n",
    "        COM_b.append(round(b[i] + (mid_b[i] - b[i])/(1+math.sin(0.3*math.pi)), 14))\n",
    "        COM_c.append(round(c[i] + (mid_c[i] - c[i])/(1+math.sin(0.3*math.pi)), 14))\n",
    "        \n",
    "    # checking overlap\n",
    "    if round(COM_a[0], n) == round(COM_b[0], n) and round(COM_b[0], n) == round(COM_c[0], n) and round(COM_a[1], n) == round(COM_b[1], n) and round(COM_b[1], n) == round(COM_c[1], n) and round(COM_a[2], n) == round(COM_b[2], n) and round(COM_b[2], n) == round(COM_c[2], n):\n",
    "        print('COM coordinates match!')\n",
    "        return COM_a\n",
    "    else:\n",
    "        print('COM coordinates do not match!')\n",
    "        print(COM_a)\n",
    "        print(COM_b)\n",
    "        print(COM_c)\n",
    "        return COM_a\n",
    "    \n",
    "if __name__ == '__main__':\n",
    "    COM, lg1, lg2, lg3, lg4, lg5, n = input_coord(radius = 45, sigma = 1)\n",
    "    print('center = ', center_coor(lg1, lg2, lg3, lg4, lg5))"
   ]
  },
  {
   "cell_type": "code",
   "execution_count": 14,
   "id": "7c7c03db",
   "metadata": {},
   "outputs": [
    {
     "name": "stdout",
     "output_type": "stream",
     "text": [
      "Number of elements in list:  12 (should be 12)\n",
      "\n",
      "COM =  [0. 0. 0.]\n",
      "lg1 =  [ 0.00000e+00 -2.31579e+01  4.20000e-09]\n",
      "lg2 =  [ 18.73513469 -11.57895003  -7.15618467]\n",
      "lg3 =  [ 11.57895002   7.15618466 -18.73513469]\n",
      "lg4 =  [-11.57895002   7.15618466 -18.73513469]\n",
      "lg5 =  [-18.73513469 -11.57895003  -7.15618467]\n",
      "n   =  [0.         0.52573111 0.85065081]\n",
      "COM coordinates match!\n",
      "Distance match!\n"
     ]
    }
   ],
   "source": [
    "def check_dis(cen, COM, lg1, lg2, lg3, lg4, lg5):\n",
    "    dis1 = round(distance(cen, lg1), 8)\n",
    "    dis2 = round(distance(cen, lg2), 8)\n",
    "    dis3 = round(distance(cen, lg3), 8)\n",
    "    dis4 = round(distance(cen, lg4), 8)\n",
    "    dis5 = round(distance(cen, lg5), 8)\n",
    "    dis_ = round(distance(COM, cen), 8)\n",
    "    if dis1 == dis2 and dis1 == dis3 and dis1 == dis4 and dis1 == dis5:\n",
    "        print('Distance match!')\n",
    "        return dis1, dis_\n",
    "    else:\n",
    "        print('Distance do not match!')\n",
    "        return dis1, dis_\n",
    "    \n",
    "if __name__ == '__main__':\n",
    "    COM, lg1, lg2, lg3, lg4, lg5, n = input_coord(radius = 45, sigma = 1)\n",
    "    cen = center_coor(lg1, lg2, lg3, lg4, lg5)\n",
    "    check_dis(cen, COM, lg1, lg2, lg3, lg4, lg5)"
   ]
  },
  {
   "cell_type": "code",
   "execution_count": 15,
   "id": "1ccdf6bb",
   "metadata": {},
   "outputs": [
    {
     "name": "stdout",
     "output_type": "stream",
     "text": [
      "Number of elements in list:  12 (should be 12)\n",
      "\n",
      "COM =  [0. 0. 0.]\n",
      "lg1 =  [ 0.00000e+00 -2.31579e+01  4.20000e-09]\n",
      "lg2 =  [ 18.73513469 -11.57895003  -7.15618467]\n",
      "lg3 =  [ 11.57895002   7.15618466 -18.73513469]\n",
      "lg4 =  [-11.57895002   7.15618466 -18.73513469]\n",
      "lg5 =  [-18.73513469 -11.57895003  -7.15618467]\n",
      "n   =  [0.         0.52573111 0.85065081]\n",
      "COM coordinates match!\n",
      "Distance match!\n",
      "---------------------------------------------------\n",
      "Final input coord:\n",
      "COM =  [0 0 0]\n",
      "lg1 =  [  0.          19.69928639 -12.17482854]\n",
      "lg2 =  [-18.73513469   6.08741427 -12.17482854]\n",
      "lg3 =  [-11.57895002 -15.93705747 -12.17482854]\n",
      "lg4 =  [ 11.57895002 -15.93705747 -12.17482854]\n",
      "lg5 =  [ 18.73513469   6.08741427 -12.17482854]\n",
      "n =  [0 0 1]\n"
     ]
    }
   ],
   "source": [
    "from math import *\n",
    "\n",
    "def norm_input(scaler, dis_):\n",
    "    c1 = cos(2*pi/5)\n",
    "    c2 = cos(pi/5)\n",
    "    s1 = sin(2*pi/5)\n",
    "    s2 = sin(4*pi/5)\n",
    "    v0 = scaler*np.array([0, 1])\n",
    "    v1 = scaler*np.array([-s1, c1])\n",
    "    v2 = scaler*np.array([-s2, -c2])\n",
    "    v3 = scaler*np.array([s2, -c2])\n",
    "    v4 = scaler*np.array([s1, c1])\n",
    "    lg1 = np.array([v0[0], v0[1], -dis_])\n",
    "    lg2 = np.array([v1[0], v1[1], -dis_])\n",
    "    lg3 = np.array([v2[0], v2[1], -dis_])\n",
    "    lg4 = np.array([v3[0], v3[1], -dis_])\n",
    "    lg5 = np.array([v4[0], v4[1], -dis_])\n",
    "    COM = np.array([0, 0, 0])\n",
    "    n = np.array([0, 0, 1])\n",
    "    \n",
    "    print('---------------------------------------------------')\n",
    "    print('Final input coord:')\n",
    "\n",
    "    print('COM = ', COM)\n",
    "    print('lg1 = ', lg1)\n",
    "    print('lg2 = ', lg2)\n",
    "    print('lg3 = ', lg3)\n",
    "    print('lg4 = ', lg4)\n",
    "    print('lg5 = ', lg5)\n",
    "    print('n = ', n)\n",
    "    \n",
    "    return COM, lg1, lg2, lg3, lg4, lg5, n\n",
    "    \n",
    "if __name__ == '__main__':\n",
    "    COM, lg1, lg2, lg3, lg4, lg5, n = input_coord(radius = 45, sigma = 1)\n",
    "    cen = center_coor(lg1, lg2, lg3, lg4, lg5)\n",
    "    scaler, dis_ = check_dis(cen, COM, lg1, lg2, lg3, lg4, lg5)\n",
    "    norm_input(scaler, dis_)"
   ]
  },
  {
   "cell_type": "code",
   "execution_count": 16,
   "id": "337ed77e",
   "metadata": {},
   "outputs": [
    {
     "name": "stdout",
     "output_type": "stream",
     "text": [
      "Number of elements in list:  12 (should be 12)\n",
      "\n",
      "COM =  [0. 0. 0.]\n",
      "lg1 =  [ 0.00000e+00 -2.31579e+01  4.20000e-09]\n",
      "lg2 =  [ 18.73513469 -11.57895003  -7.15618467]\n",
      "lg3 =  [ 11.57895002   7.15618466 -18.73513469]\n",
      "lg4 =  [-11.57895002   7.15618466 -18.73513469]\n",
      "lg5 =  [-18.73513469 -11.57895003  -7.15618467]\n",
      "n   =  [0.         0.52573111 0.85065081]\n",
      "COM coordinates match!\n",
      "Distance match!\n",
      "---------------------------------------------------\n",
      "Final input coord:\n",
      "COM =  [0 0 0]\n",
      "lg1 =  [  0.          19.69928639 -12.17482854]\n",
      "lg2 =  [-18.73513469   6.08741427 -12.17482854]\n",
      "lg3 =  [-11.57895002 -15.93705747 -12.17482854]\n",
      "lg4 =  [ 11.57895002 -15.93705747 -12.17482854]\n",
      "lg5 =  [ 18.73513469   6.08741427 -12.17482854]\n",
      "n =  [0 0 1]\n"
     ]
    },
    {
     "data": {
      "image/png": "[encoded data removed]",
      "text/plain": [
       "<Figure size 432x288 with 1 Axes>"
      ]
     },
     "metadata": {
      "needs_background": "light"
     },
     "output_type": "display_data"
    }
   ],
   "source": [
    "if __name__ == '__main__':\n",
    "    COM, lg1, lg2, lg3, lg4, lg5, n = input_coord(radius = 45, sigma = 1)\n",
    "    cen = center_coor(lg1, lg2, lg3, lg4, lg5)\n",
    "    scaler, dis_ = check_dis(cen, COM, lg1, lg2, lg3, lg4, lg5)\n",
    "    COM_, lg1_, lg2_, lg3_, lg4_, lg5_, n_ = norm_input(scaler, dis_)\n",
    "    vis2([[COM_, lg1_, lg2_, lg3_, lg4_, lg5_]], n)"
   ]
  },
  {
   "cell_type": "code",
   "execution_count": 17,
   "id": "c6277477",
   "metadata": {},
   "outputs": [
    {
     "name": "stdout",
     "output_type": "stream",
     "text": [
      "Number of elements in list:  12 (should be 12)\n",
      "\n",
      "COM =  [0. 0. 0.]\n",
      "lg1 =  [ 0.00000e+00 -2.31579e+01  4.20000e-09]\n",
      "lg2 =  [ 18.73513469 -11.57895003  -7.15618467]\n",
      "lg3 =  [ 11.57895002   7.15618466 -18.73513469]\n",
      "lg4 =  [-11.57895002   7.15618466 -18.73513469]\n",
      "lg5 =  [-18.73513469 -11.57895003  -7.15618467]\n",
      "n   =  [0.         0.52573111 0.85065081]\n",
      "COM coordinates match!\n",
      "Distance match!\n",
      "---------------------------------------------------\n",
      "Final input coord:\n",
      "COM =  [0 0 0]\n",
      "lg1 =  [  0.          19.69928639 -12.17482854]\n",
      "lg2 =  [-18.73513469   6.08741427 -12.17482854]\n",
      "lg3 =  [-11.57895002 -15.93705747 -12.17482854]\n",
      "lg4 =  [ 11.57895002 -15.93705747 -12.17482854]\n",
      "lg5 =  [ 18.73513469   6.08741427 -12.17482854]\n",
      "n =  [0 0 1]\n",
      "23.1579000454\n",
      "23.157900039805806\n",
      "23.15790003896252\n",
      "23.157900039805806\n"
     ]
    }
   ],
   "source": [
    "def leg_len_valid(radius, sigma):\n",
    "    COM, lg1, lg2, lg3, lg4, lg5, n = input_coord(radius = 45, sigma = 1)\n",
    "    cen = center_coor(lg1, lg2, lg3, lg4, lg5)\n",
    "    scaler, dis_ = check_dis(cen, COM, lg1, lg2, lg3, lg4, lg5)\n",
    "    COM_, lg1_, lg2_, lg3_, lg4_, lg5_, n_ = norm_input(scaler, dis_)\n",
    "    print(distance(COM, lg1))\n",
    "    print(distance(COM_, lg1_))\n",
    "    print(distance(COM, lg3))\n",
    "    print(distance(COM_, lg3_))\n",
    "\n",
    "if __name__ == '__main__':\n",
    "    leg_len_valid(radius = 45, sigma = 1)"
   ]
  },
  {
   "cell_type": "code",
   "execution_count": 18,
   "id": "2db3b1f1",
   "metadata": {},
   "outputs": [
    {
     "name": "stdout",
     "output_type": "stream",
     "text": [
      "Number of elements in list:  12 (should be 12)\n",
      "\n",
      "COM =  [0. 0. 0.]\n",
      "lg1 =  [ 0.00000e+00 -2.31579e+01  4.20000e-09]\n",
      "lg2 =  [ 18.73513469 -11.57895003  -7.15618467]\n",
      "lg3 =  [ 11.57895002   7.15618466 -18.73513469]\n",
      "lg4 =  [-11.57895002   7.15618466 -18.73513469]\n",
      "lg5 =  [-18.73513469 -11.57895003  -7.15618467]\n",
      "n   =  [0.         0.52573111 0.85065081]\n",
      "COM coordinates match!\n",
      "Distance match!\n",
      "---------------------------------------------------\n",
      "Final input coord:\n",
      "COM =  [0 0 0]\n",
      "lg1 =  [  0.          19.69928639 -12.17482854]\n",
      "lg2 =  [-18.73513469   6.08741427 -12.17482854]\n",
      "lg3 =  [-11.57895002 -15.93705747 -12.17482854]\n",
      "lg4 =  [ 11.57895002 -15.93705747 -12.17482854]\n",
      "lg5 =  [ 18.73513469   6.08741427 -12.17482854]\n",
      "n =  [0 0 1]\n"
     ]
    }
   ],
   "source": [
    "def norm_input_final(radius, sigma):\n",
    "    COM, lg1, lg2, lg3, lg4, lg5, n = input_coord(radius, sigma)\n",
    "    cen = center_coor(lg1, lg2, lg3, lg4, lg5)\n",
    "    scaler, dis_ = check_dis(cen, COM, lg1, lg2, lg3, lg4, lg5)\n",
    "    COM, lg1, lg2, lg3, lg4, lg5, n = norm_input(scaler, dis_)\n",
    "    angle_cal(coord[0][0], coord[0][1], coord[2][0], coord[2][1])\n",
    "    \n",
    "\n",
    "if __name__ == '__main__':\n",
    "    norm_input_final(radius = 45, sigma = 1)"
   ]
  },
  {
   "cell_type": "code",
   "execution_count": null,
   "id": "57561acf",
   "metadata": {},
   "outputs": [],
   "source": []
  }
 ],
 "metadata": {
  "kernelspec": {
   "display_name": "Python 3",
   "language": "python",
   "name": "python3"
  },
  "language_info": {
   "codemirror_mode": {
    "name": "ipython",
    "version": 3
   },
   "file_extension": ".py",
   "mimetype": "text/x-python",
   "name": "python",
   "nbconvert_exporter": "python",
   "pygments_lexer": "ipython3",
   "version": "3.8.8"
  }
 },
 "nbformat": 4,
 "nbformat_minor": 5
}
