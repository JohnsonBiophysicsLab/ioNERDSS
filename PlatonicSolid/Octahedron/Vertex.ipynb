{
 "cells": [
  {
   "cell_type": "code",
   "execution_count": 1,
   "id": "e393f859",
   "metadata": {},
   "outputs": [
    {
     "name": "stdout",
     "output_type": "stream",
     "text": [
      "radius =  30\n",
      "[[30, 0, 0], [-30, 0, 0], [0, 30, 0], [0, -30, 0], [0, 0, 30], [0, 0, -30]]\n"
     ]
    }
   ],
   "source": [
    "import math\n",
    "def vert_coord(radius):\n",
    "    \n",
    "    print('radius = ', radius)\n",
    "    \n",
    "    scaler = radius\n",
    "    m = (1+5**0.5)/2\n",
    "    v0 = [1, 0, 0]\n",
    "    v1 = [-1, 0, 0]\n",
    "    v2 = [0, 1, 0]\n",
    "    v3 = [0, -1, 0]\n",
    "    v4 = [0, 0, 1]\n",
    "    v5 = [0, 0, -1]\n",
    "    VertCoord = [v0, v1, v2, v3, v4, v5]\n",
    "    VertCoord_ = []\n",
    "    for i in VertCoord:\n",
    "        temp_list = []\n",
    "        for j in i:\n",
    "            temp = j*scaler\n",
    "            temp_list.append(temp)\n",
    "        VertCoord_.append(temp_list)\n",
    "    return VertCoord_\n",
    "\n",
    "if __name__ == '__main__':\n",
    "    print(vert_coord(radius = 30))"
   ]
  },
  {
   "cell_type": "code",
   "execution_count": 3,
   "id": "4f4c301c",
   "metadata": {},
   "outputs": [
    {
     "name": "stdout",
     "output_type": "stream",
     "text": [
      "radius =  30\n",
      "radius =  30.0\n",
      "edge length =  42.42640687119285\n"
     ]
    }
   ],
   "source": [
    "def distance(a, b):\n",
    "    # a seperated function for calculating the distance between two coordinates\n",
    "    n = 15\n",
    "    return round(((a[0] - b[0])**2 + (a[1] - b[1])**2 + (a[2] - b[2])**2)**0.5, n)\n",
    "\n",
    "if __name__ == '__main__':\n",
    "    coord = vert_coord(radius = 30)\n",
    "    print('radius = ', distance([0, 0, 0], coord[0]))\n",
    "    print('edge length = ', distance(coord[0], coord[2]))"
   ]
  },
  {
   "cell_type": "code",
   "execution_count": 4,
   "id": "77006ab5",
   "metadata": {},
   "outputs": [
    {
     "name": "stdout",
     "output_type": "stream",
     "text": [
      "[2.5, 3.5, 4.5]\n"
     ]
    }
   ],
   "source": [
    "def mid_pt(a, b):\n",
    "    # this is a seperate function for calculating mid point of two coords\n",
    "    n = 15\n",
    "    return [round((a[0]+b[0])/2, n), round((a[1]+b[1])/2, n), round((a[2]+b[2])/2, n)]\n",
    "\n",
    "if __name__ == '__main__':\n",
    "    print(mid_pt([1, 2, 3], [4, 5, 6]))"
   ]
  },
  {
   "cell_type": "code",
   "execution_count": 8,
   "id": "ca477580",
   "metadata": {},
   "outputs": [
    {
     "name": "stdout",
     "output_type": "stream",
     "text": [
      "radius =  30\n",
      "[array([-30,   0,   0]), array([-15.,  15.,   0.]), array([-15.,   0.,  15.]), array([-15., -15.,   0.]), array([-15.,   0., -15.])]\n"
     ]
    }
   ],
   "source": [
    "from numpy import *\n",
    "\n",
    "def COM_leg(COM, a, b, c, d):\n",
    "    lega = mid_pt(COM, a)\n",
    "    legb = mid_pt(COM, b)\n",
    "    legc = mid_pt(COM, c)\n",
    "    legd = mid_pt(COM, d)\n",
    "    return [around(COM, 10), around(lega, 10), around(legb, 10), around(legc, 10), around(legd, 10)]\n",
    "\n",
    "if __name__ == '__main__':\n",
    "    coord = vert_coord(radius = 30)\n",
    "    print(COM_leg(coord[1], coord[2], coord[4], coord[3], coord[5]))"
   ]
  },
  {
   "cell_type": "code",
   "execution_count": 9,
   "id": "a7097e2b",
   "metadata": {},
   "outputs": [
    {
     "name": "stdout",
     "output_type": "stream",
     "text": [
      "radius =  30\n",
      "Number of leg =  12 (should be 12)\n"
     ]
    }
   ],
   "source": [
    "def COM_leg_gen(radius):\n",
    "    coord = vert_coord(radius)\n",
    "    COM_leg_list = []\n",
    "    COM_leg_list.append(COM_leg(coord[0], coord[2], coord[4], coord[3], coord[5]))\n",
    "    COM_leg_list.append(COM_leg(coord[1], coord[2], coord[4], coord[3], coord[5]))\n",
    "    COM_leg_list.append(COM_leg(coord[2], coord[1], coord[5], coord[0], coord[4]))\n",
    "    COM_leg_list.append(COM_leg(coord[3], coord[1], coord[5], coord[0], coord[4]))\n",
    "    COM_leg_list.append(COM_leg(coord[4], coord[1], coord[2], coord[0], coord[3]))\n",
    "    COM_leg_list.append(COM_leg(coord[5], coord[1], coord[2], coord[0], coord[3]))\n",
    "    \n",
    "    return COM_leg_list\n",
    "\n",
    "def COM_leg_valid(radius):\n",
    "    COM_leg_list = COM_leg_gen(radius)\n",
    "    leg_pool = []\n",
    "    count = 0\n",
    "    for i in COM_leg_list:\n",
    "        for j in range(len(i)):\n",
    "            if j != 0:\n",
    "                if list(i[j]) not in leg_pool:\n",
    "                    count += 1\n",
    "                    leg_pool.append(list(i[j]))\n",
    "    print('Number of leg = ', count, '(should be 12)')\n",
    "\n",
    "if __name__ == '__main__':\n",
    "    COM_leg_valid(radius = 30)"
   ]
  },
  {
   "cell_type": "code",
   "execution_count": 15,
   "id": "4f6a9ba6",
   "metadata": {},
   "outputs": [
    {
     "name": "stdout",
     "output_type": "stream",
     "text": [
      "radius =  30\n",
      "Actual distance:  1.0\n",
      "Assigned sigma:  1\n",
      "Result match!\n",
      "\n",
      "Actual distance:  2.0\n",
      "Assigned sigma:  2\n",
      "Result match!\n",
      "\n",
      "Actual distance:  5.0\n",
      "Assigned sigma:  5\n",
      "Result match!\n",
      "\n"
     ]
    }
   ],
   "source": [
    "def leg_reduce(COM, leg, sigma):   \n",
    "    red_len = sigma/2\n",
    "    ratio = 1 - red_len/distance(COM, leg)\n",
    "    leg_red = []\n",
    "    for i in range(0, 3):\n",
    "        leg_red.append(round((leg[i] - COM[i])*ratio + COM[i], 8))\n",
    "    return leg_red\n",
    "                \n",
    "def leg_reduce_valid(a, b, c, d, sigma):\n",
    "    # validate the reduced length of legs is correct\n",
    "    n = 7\n",
    "    result_1 = leg_reduce(a, b, sigma)\n",
    "    result_2 = leg_reduce(c, d, sigma)\n",
    "    dis = distance(result_1, result_2)\n",
    "    print('Actual distance: ', round(dis, 7))\n",
    "    print('Assigned sigma: ', sigma)\n",
    "    if round(dis, n) == sigma:\n",
    "        print('Result match!\\n')\n",
    "    else:\n",
    "        print('Result does not match!\\n')\n",
    "\n",
    "if __name__ == '__main__':\n",
    "    coord = COM_leg_gen(radius = 30)\n",
    "    leg_reduce_valid(coord[0][0], coord[0][2], coord[4][0], coord[4][3], 1)\n",
    "    leg_reduce_valid(coord[1][0], coord[1][1], coord[2][0], coord[2][1], 2)\n",
    "    leg_reduce_valid(coord[3][0], coord[3][2], coord[5][0], coord[5][4], 5)"
   ]
  },
  {
   "cell_type": "code",
   "execution_count": 20,
   "id": "bdba8339",
   "metadata": {},
   "outputs": [
    {
     "name": "stdout",
     "output_type": "stream",
     "text": [
      "radius =  30\n",
      "Number of elements in list:  6 (should be 6)\n",
      "\n",
      "[array([30,  0,  0]), [15.35355339, 14.64644661, 0.0], [15.35355339, 0.0, 14.64644661], [15.35355339, -14.64644661, 0.0], [15.35355339, 0.0, -14.64644661]] \n",
      "\n",
      "[array([-30,   0,   0]), [-15.35355339, 14.64644661, 0.0], [-15.35355339, 0.0, 14.64644661], [-15.35355339, -14.64644661, 0.0], [-15.35355339, 0.0, -14.64644661]] \n",
      "\n",
      "[array([ 0, 30,  0]), [-14.64644661, 15.35355339, 0.0], [0.0, 15.35355339, -14.64644661], [14.64644661, 15.35355339, 0.0], [0.0, 15.35355339, 14.64644661]] \n",
      "\n",
      "[array([  0, -30,   0]), [-14.64644661, -15.35355339, 0.0], [0.0, -15.35355339, -14.64644661], [14.64644661, -15.35355339, 0.0], [0.0, -15.35355339, 14.64644661]] \n",
      "\n",
      "[array([ 0,  0, 30]), [-14.64644661, 0.0, 15.35355339], [0.0, 14.64644661, 15.35355339], [14.64644661, 0.0, 15.35355339], [0.0, -14.64644661, 15.35355339]] \n",
      "\n",
      "[array([  0,   0, -30]), [-14.64644661, 0.0, -15.35355339], [0.0, 14.64644661, -15.35355339], [14.64644661, 0.0, -15.35355339], [0.0, -14.64644661, -15.35355339]] \n",
      "\n"
     ]
    }
   ],
   "source": [
    "def leg_reduce_coor_gen(radius, sigma):\n",
    "    # Generating all the coords of COM and legs when sigma exists\n",
    "    COM_leg_list = COM_leg_gen(radius)\n",
    "    COM_leg_red_list = []\n",
    "    for elements in COM_leg_list:\n",
    "        temp_list = []\n",
    "        temp_list.append(elements[0])\n",
    "        i = 1\n",
    "        while i <= 4:\n",
    "            temp_list.append(leg_reduce(elements[0], elements[i], sigma))\n",
    "            i += 1\n",
    "        COM_leg_red_list.append(temp_list)\n",
    "    print('Number of elements in list: ', len(COM_leg_red_list), '(should be 6)\\n')\n",
    "    return COM_leg_red_list\n",
    "\n",
    "if __name__ == '__main__':\n",
    "    result = leg_reduce_coor_gen(radius = 30, sigma = 1)\n",
    "    for i in result:\n",
    "        print(i, '\\n')"
   ]
  },
  {
   "cell_type": "code",
   "execution_count": 21,
   "id": "1b99404a",
   "metadata": {},
   "outputs": [
    {
     "name": "stdout",
     "output_type": "stream",
     "text": [
      "radius =  30\n",
      "Number of elements in list:  6 (should be 6)\n",
      "\n"
     ]
    },
    {
     "data": {
      "image/png": "[encoded data removed]",
      "text/plain": [
       "<Figure size 432x288 with 1 Axes>"
      ]
     },
     "metadata": {
      "needs_background": "light"
     },
     "output_type": "display_data"
    }
   ],
   "source": [
    "from mpl_toolkits.mplot3d import axes3d  \n",
    "import matplotlib.pyplot as plt  \n",
    " \n",
    "# visualize the model\n",
    "def sig_vis(list, ax):\n",
    "    for i in range(1, 5):\n",
    "        figure = ax.plot([list[0][0], list[i][0]], [list[0][1], list[i][1]], [list[0][2], list[i][2]])\n",
    "\n",
    "def vis(lst):\n",
    "    fig = plt.figure(1)  \n",
    "    ax = fig.gca(projection='3d')\n",
    "    for element in lst:\n",
    "        sig_vis(element, ax) \n",
    "    plt.show()\n",
    "\n",
    "if __name__ == '__main__':\n",
    "    lst = leg_reduce_coor_gen(radius = 30, sigma = 1)\n",
    "    vis(lst)"
   ]
  },
  {
   "cell_type": "code",
   "execution_count": 24,
   "id": "f8af9475",
   "metadata": {},
   "outputs": [],
   "source": [
    "# import numpy as np\n",
    "\n",
    "# # calculating the 5 angles according to the coords of legs and COM\n",
    "# # see SI of the NERDSS paper II part for detail\n",
    "# def angle_cal(COM1, leg1, COM2, leg2):\n",
    "#     n = 8\n",
    "#     c1 = np.array(COM1)\n",
    "#     p1 = np.array(leg1)\n",
    "#     c2 = np.array(COM2)\n",
    "#     p2 = np.array(leg2)\n",
    "#     v1 = p1 - c1\n",
    "#     v2 = p2 - c2\n",
    "#     sig1 = p1 - p2\n",
    "#     sig2 = -sig1\n",
    "#     theta1 = round(math.acos(np.dot(v1, sig1)/(np.linalg.norm(v1)*np.linalg.norm(sig1))), n)\n",
    "#     theta2 = round(math.acos(np.dot(v2, sig2)/(np.linalg.norm(v2)*np.linalg.norm(sig2))), n)\n",
    "#     print('-----------------------')\n",
    "#     print('theta1 = ', round(theta1/math.pi, n), 'pi')\n",
    "#     print('theta2 = ', round(theta2/math.pi, n), 'pi')\n",
    "\n",
    "#     t1 = np.cross(v1, sig1)\n",
    "#     t2 = np.cross(v1, c1) # n1 = c1 here\n",
    "#     t1_hat = t1/np.linalg.norm(t1)\n",
    "#     t2_hat = t2/np.linalg.norm(t2)\n",
    "#     phi1 = round(math.acos(np.around(np.dot(t1_hat, t2_hat), n)), n)\n",
    "#     t3 = np.cross(v2, sig2)\n",
    "#     t4 = np.cross(v2, c2) # n2 = c2 here\n",
    "#     t3_hat = t3/np.linalg.norm(t3)\n",
    "#     t4_hat = t4/np.linalg.norm(t4)\n",
    "#     phi2 = round(math.acos(np.around(np.dot(t3_hat, t4_hat), n)), n)\n",
    "#     print('phi1 = ', round(phi1/math.pi, n), 'pi')\n",
    "#     print('phi2 = ', round(phi2/math.pi, n), 'pi')\n",
    "\n",
    "#     t1_ = np.cross(sig1, v1)\n",
    "#     t2_ = np.cross(sig1, v2)\n",
    "#     t1__hat = t1/np.linalg.norm(t1)\n",
    "#     t2__hat = t2/np.linalg.norm(t2)\n",
    "#     omega = round(math.acos(np.around(np.dot(t1__hat, t2__hat), n)), n)\n",
    "#     print('omega = ', round(omega/math.pi, n), 'pi')\n",
    "    \n",
    "#     print('COM1 = ', COM1)\n",
    "#     print('COM2 = ', COM2)\n",
    "#     print('leg1 = ', leg1)\n",
    "#     print('leg2 = ', leg2)\n",
    "#     print('c1 = ', c1)\n",
    "#     print('c2 = ', c2)\n",
    "    \n",
    "#     return [theta1, theta2, phi1, phi2, omega]\n",
    "\n",
    "# if __name__ == '__main__':\n",
    "#     coord = leg_reduce_coor_gen(radius = 30, sigma = 1)\n",
    "#     print(angle_cal(coord[1][0], coord[1][1], coord[2][0], coord[2][1]))\n",
    "# #     print(angle_cal(coord[2][0], coord[2][2], coord[14][0], coord[14][1]))\n",
    "# #     print(angle_cal(coord[7][0], coord[7][1], coord[5][0], coord[5][1]))"
   ]
  },
  {
   "cell_type": "code",
   "execution_count": 26,
   "id": "ac609d57",
   "metadata": {},
   "outputs": [
    {
     "name": "stdout",
     "output_type": "stream",
     "text": [
      "radius =  30\n",
      "Number of elements in list:  6 (should be 6)\n",
      "\n",
      "COM =  [0. 0. 0.]\n",
      "lg1 =  [-14.64644661   0.         -14.64644661]\n",
      "lg2 =  [  0.          14.64644661 -14.64644661]\n",
      "lg3 =  [ 14.64644661   0.         -14.64644661]\n",
      "lg4 =  [  0.         -14.64644661 -14.64644661]\n",
      "n   =  [0. 0. 1.]\n"
     ]
    }
   ],
   "source": [
    "# calculate coordinates of normalized COM and legs\n",
    "def input_coord(radius, sigma):\n",
    "\n",
    "    coor = leg_reduce_coor_gen(radius, sigma)\n",
    "    coor_ = np.array(coor[4])\n",
    "    COM = around(coor_[0] - coor_[0], 8)\n",
    "    lg1 = around(coor_[1] - coor_[0], 8)\n",
    "    lg2 = around(coor_[2] - coor_[0], 8)\n",
    "    lg3 = around(coor_[3] - coor_[0], 8)\n",
    "    lg4 = around(coor_[4] - coor_[0], 8)\n",
    "    n = around(coor_[0]/np.linalg.norm(coor_[0]), 8)\n",
    "    \n",
    "    print('COM = ', COM)\n",
    "    print('lg1 = ', lg1)\n",
    "    print('lg2 = ', lg2)\n",
    "    print('lg3 = ', lg3)\n",
    "    print('lg4 = ', lg4)\n",
    "    print('n   = ', n)\n",
    "    \n",
    "    return COM, lg1, lg2, lg3, lg4, n\n",
    "\n",
    "if __name__ == '__main__':\n",
    "    input_coord(radius = 30, sigma = 1)"
   ]
  },
  {
   "cell_type": "code",
   "execution_count": 29,
   "id": "f10c38a8",
   "metadata": {},
   "outputs": [
    {
     "name": "stdout",
     "output_type": "stream",
     "text": [
      "radius =  30\n",
      "Number of elements in list:  6 (should be 6)\n",
      "\n",
      "COM =  [0. 0. 0.]\n",
      "lg1 =  [-14.64644661   0.         -14.64644661]\n",
      "lg2 =  [  0.          14.64644661 -14.64644661]\n",
      "lg3 =  [ 14.64644661   0.         -14.64644661]\n",
      "lg4 =  [  0.         -14.64644661 -14.64644661]\n",
      "n   =  [0. 0. 1.]\n"
     ]
    },
    {
     "data": {
      "image/png": "[encoded data removed]",
      "text/plain": [
       "<Figure size 432x288 with 1 Axes>"
      ]
     },
     "metadata": {
      "needs_background": "light"
     },
     "output_type": "display_data"
    }
   ],
   "source": [
    "def sig_vis2(list, ax, n):\n",
    "    for i in range(1, 5):\n",
    "        figure = ax.plot([list[0][0], list[i][0]], [list[0][1], list[i][1]], [list[0][2], list[i][2]])\n",
    "    figure = ax.plot([n[0], list[0][0]], [n[1], list[0][1]], [n[2], list[0][2]])\n",
    "        \n",
    "def vis2(lst, n):\n",
    "    fig = plt.figure(1)  \n",
    "    ax = fig.gca(projection='3d')\n",
    "    for element in lst:\n",
    "        sig_vis2(element, ax, n) \n",
    "    plt.show()\n",
    "\n",
    "if __name__ == '__main__':\n",
    "    COM, lg1, lg2, lg3, lg4, n = input_coord(radius = 30, sigma = 1)\n",
    "    vis2([[COM, lg1, lg2, lg3, lg4]], n)"
   ]
  },
  {
   "cell_type": "code",
   "execution_count": null,
   "id": "48b6d5af",
   "metadata": {},
   "outputs": [],
   "source": []
  }
 ],
 "metadata": {
  "kernelspec": {
   "display_name": "Python 3",
   "language": "python",
   "name": "python3"
  },
  "language_info": {
   "codemirror_mode": {
    "name": "ipython",
    "version": 3
   },
   "file_extension": ".py",
   "mimetype": "text/x-python",
   "name": "python",
   "nbconvert_exporter": "python",
   "pygments_lexer": "ipython3",
   "version": "3.8.8"
  }
 },
 "nbformat": 4,
 "nbformat_minor": 5
}
