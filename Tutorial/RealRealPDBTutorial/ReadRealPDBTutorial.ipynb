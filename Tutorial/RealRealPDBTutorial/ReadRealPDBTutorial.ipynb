{
 "cells": [
  {
   "cell_type": "markdown",
   "id": "385c10da",
   "metadata": {},
   "source": [
    "# Tutorial for Reading Real PDB and Generating Inputs for NERDSS"
   ]
  },
  {
   "cell_type": "markdown",
   "id": "66921cc9",
   "metadata": {},
   "source": [
    "## 1. Introduction"
   ]
  },
  {
   "cell_type": "markdown",
   "id": "80d401f3",
   "metadata": {},
   "source": [
    "This function enables users to read a real PDB file and extract the coordinate information stored inside, and generate NERDSS-readable input files (.mol and .inp files). The functions introduced in this tutorial is a series of step-by-step seperate functions that can be used in Jupyter Notebook. For another version with user's interface, please refer to 'ioNERDSSUserGuide.doc' in the same repository."
   ]
  },
  {
   "cell_type": "markdown",
   "id": "93743c54",
   "metadata": {},
   "source": [
    "## 2. Functions"
   ]
  },
  {
   "cell_type": "markdown",
   "id": "e5c3feac",
   "metadata": {},
   "source": [
    "Import package 'ioNERDSS' that contains all analytical functions."
   ]
  },
  {
   "cell_type": "code",
   "execution_count": 1,
   "id": "088c5c0f",
   "metadata": {},
   "outputs": [],
   "source": [
    "import ioNERDSS as io"
   ]
  },
  {
   "cell_type": "markdown",
   "id": "e019e613",
   "metadata": {},
   "source": [
    "For all the input requirements of all the functions below, please refer to the 'ioNERDSSUserGuide'."
   ]
  },
  {
   "cell_type": "markdown",
   "id": "78217ccf",
   "metadata": {},
   "source": [
    "### 2.1 Reading PDB File"
   ]
  },
  {
   "cell_type": "markdown",
   "id": "0d4ba909",
   "metadata": {},
   "source": [
    "This function will extract the coordinate information stored inside a real PDB file and calculate the COM of each unique chain, as well as recognize the binding information between each pair of chains (all atoms of different unique chains that are closer that 3.0 angstroms are considered as binded), including whether two chains are binded and the coordinates of each binding interface. All the information will be printed on the screen and the returns will contain all the information for further analysis."
   ]
  },
  {
   "cell_type": "code",
   "execution_count": 2,
   "id": "fdd13d7e",
   "metadata": {},
   "outputs": [
    {
     "name": "stdout",
     "output_type": "stream",
     "text": [
      "Finish reading pdb file\n",
      "4 chain(s) in total: ['A', 'B', 'P', 'Q']\n",
      "Each of them has [2754, 2763, 66, 66] atoms.\n",
      "Center of mass of  A is: [0.975, 5.018, 3.545]\n",
      "Center of mass of  B is: [4.214, 6.886, 2.019]\n",
      "Center of mass of  P is: [2.635, 5.307, 3.115]\n",
      "Center of mass of  Q is: [2.555, 6.419, 2.222]\n",
      "Interaction site of A & B is: [1.752, 6.239, 2.643] and [2.223, 6.546, 2.559] distance between interaction sites is: 0.568 nm\n",
      "Interaction site of A & P is: [2.096, 5.612, 3.193] and [2.417, 5.159, 3.148] distance between interaction sites is: 0.557 nm\n",
      "Interaction site of A & Q is: [1.831, 5.940, 1.576] and [2.400, 6.433, 1.890] distance between interaction sites is: 0.815 nm\n",
      "Interaction site of B & P is: [3.350, 5.290, 2.839] and [2.856, 5.318, 3.063] distance between interaction sites is: 0.544 nm\n",
      "Interaction site of B & Q is: [3.064, 6.419, 1.962] and [2.619, 6.526, 2.028] distance between interaction sites is: 0.463 nm\n"
     ]
    }
   ],
   "source": [
    "result1 = io.real_PDB_separate_read(FileName='1utc.pdb')"
   ]
  },
  {
   "cell_type": "markdown",
   "id": "48901c54",
   "metadata": {},
   "source": [
    "### 2.2 Changing Sigma "
   ]
  },
  {
   "cell_type": "markdown",
   "id": "1af74d67",
   "metadata": {},
   "source": [
    "This function allows users to change the value of sigma (the distance between two binding interfaces). The new sigma value and the corresponding coordinates of interfaces will be shown on the screen and the returns will contain all the information for further analysis."
   ]
  },
  {
   "cell_type": "markdown",
   "id": "3f1274e8",
   "metadata": {},
   "source": [
    "There are 5 pairs of interfaces in this protein and the sigma value is desired to be changed as: A & Q: 0.8 nm and the rest is 0.5 nm, so that the input can be assigned as below."
   ]
  },
  {
   "cell_type": "code",
   "execution_count": 3,
   "id": "dbfdce13",
   "metadata": {},
   "outputs": [
    {
     "name": "stdout",
     "output_type": "stream",
     "text": [
      "New interaction site of A & B is: [1.781, 6.257, 2.638] and [2.195, 6.528, 2.564] distance between new interaction sites is: 0.500 nm\n",
      "New interaction site of A & P is: [2.112, 5.589, 3.191] and [2.401, 5.182, 3.150] distance between new interaction sites is: 0.500 nm\n",
      "New interaction site of A & Q is: [1.837, 5.945, 1.579] and [2.395, 6.429, 1.887] distance between new interaction sites is: 0.800 nm\n",
      "New interaction site of B & P is: [3.331, 5.291, 2.848] and [2.876, 5.317, 3.054] distance between new interaction sites is: 0.500 nm\n",
      "New interaction site of B & Q is: [3.082, 6.414, 1.959] and [2.601, 6.531, 2.030] distance between new interaction sites is: 0.500 nm\n"
     ]
    }
   ],
   "source": [
    "result2 = io.real_PDB_separate_sigma(Result=result1, ChangeSigma=True, SiteList=[0, 3], NewSigma=[0.5, 0.8])"
   ]
  },
  {
   "cell_type": "markdown",
   "id": "16f9306d",
   "metadata": {},
   "source": [
    "### 2.3 Calculate Associate Angle"
   ]
  },
  {
   "cell_type": "markdown",
   "id": "115cdde7",
   "metadata": {},
   "source": [
    "This function will calculate the 5 associating angles of each pair of interfaces. The default normal vector will be assigned as (0, 0, 1). If the co-linear issue occurs, the system will use (0, 1, 0) instead to resolve co-linear issue. The calculated 5 angles will be shown on the screen automatically. If user intends to manually input the normal vector, please refer to function ‘real_PDB_UI’, the separated function does not support manual inputs. The returns will contain all the information for further analysis."
   ]
  },
  {
   "cell_type": "code",
   "execution_count": 4,
   "id": "7876881d",
   "metadata": {},
   "outputs": [
    {
     "name": "stdout",
     "output_type": "stream",
     "text": [
      "Angles for chain A & B\n",
      "Theta1: 2.583, Theta2: 2.733, Phi1: -2.285, Phi2: 1.340, Omega: 1.175\n",
      "Angles for chain A & P\n",
      "Theta1: 1.738, Theta2: 1.709, Phi1: -1.533, Phi2: -1.635, Omega: -2.999\n",
      "Angles for chain A & Q\n",
      "Theta1: 1.745, Theta2: 2.253, Phi1: -3.041, Phi2: 2.156, Omega: 0.341\n",
      "Angles for chain B & P\n",
      "Theta1: 2.130, Theta2: 2.943, Phi1: -1.823, Phi2: -0.469, Omega: 1.817\n",
      "Angles for chain B & Q\n",
      "Theta1: 2.483, Theta2: 1.775, Phi1: -1.873, Phi2: -1.624, Omega: -1.870\n"
     ]
    }
   ],
   "source": [
    "result3 = io.real_PDB_separate_angle(Result=result2)"
   ]
  },
  {
   "cell_type": "markdown",
   "id": "5439857d",
   "metadata": {},
   "source": [
    "### 2.4 Normalize COM"
   ]
  },
  {
   "cell_type": "markdown",
   "id": "62b8e035",
   "metadata": {},
   "source": [
    "This function will normalize the COM of each chain as (0, 0, 0). The interface of each chain will be subtracted by the COM coordinates accordingly. Once the calculation is completed, there will be message shown on the screen. The returns will contain all the information for further analysis."
   ]
  },
  {
   "cell_type": "code",
   "execution_count": 5,
   "id": "cf11e39f",
   "metadata": {},
   "outputs": [
    {
     "name": "stdout",
     "output_type": "stream",
     "text": [
      "COM is normalized as [0.000, 0.000, 0.000]\n"
     ]
    }
   ],
   "source": [
    "result4 = io.real_PDB_separate_COM(Result=result3)"
   ]
  },
  {
   "cell_type": "markdown",
   "id": "d4e84c4f",
   "metadata": {},
   "source": [
    "### 2.5 Writing Files"
   ]
  },
  {
   "cell_type": "markdown",
   "id": "2b2e8b56",
   "metadata": {},
   "source": [
    "This function will write ‘.inp’ and ‘.mol’ files according to all the calculations and modifications above. Multiple ‘.mol’ file and a ‘.inp’ file can be found in the same directory as the Jupyter Notebook file once the function finish running."
   ]
  },
  {
   "cell_type": "code",
   "execution_count": 6,
   "id": "ad866e74",
   "metadata": {},
   "outputs": [
    {
     "name": "stdout",
     "output_type": "stream",
     "text": [
      "Input files written complete.\n"
     ]
    },
    {
     "data": {
      "text/plain": [
       "0"
      ]
     },
     "execution_count": 6,
     "metadata": {},
     "output_type": "execute_result"
    }
   ],
   "source": [
    "io.real_PDB_separate_write(Result=result4)"
   ]
  },
  {
   "cell_type": "markdown",
   "id": "776f9344",
   "metadata": {},
   "source": [
    "## 3. Simulation"
   ]
  },
  {
   "cell_type": "markdown",
   "id": "71db91be",
   "metadata": {},
   "source": [
    "To run the simulation, copy the 'nerdss.exe' file generated in the first step in the same directory as .inp and .mol file. Open the same directory in terminal and run command below in system command line to start simulation:"
   ]
  },
  {
   "cell_type": "markdown",
   "id": "77e73ce4",
   "metadata": {},
   "source": [
    "> ./nerdss -f parm.inp"
   ]
  },
  {
   "cell_type": "code",
   "execution_count": null,
   "id": "262828c8",
   "metadata": {},
   "outputs": [],
   "source": []
  }
 ],
 "metadata": {
  "kernelspec": {
   "display_name": "Python 3",
   "language": "python",
   "name": "python3"
  },
  "language_info": {
   "codemirror_mode": {
    "name": "ipython",
    "version": 3
   },
   "file_extension": ".py",
   "mimetype": "text/x-python",
   "name": "python",
   "nbconvert_exporter": "python",
   "pygments_lexer": "ipython3",
   "version": "3.8.8"
  }
 },
 "nbformat": 4,
 "nbformat_minor": 5
}
