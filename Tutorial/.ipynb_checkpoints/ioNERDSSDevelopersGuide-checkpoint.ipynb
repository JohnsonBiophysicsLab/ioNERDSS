{
 "cells": [
  {
   "cell_type": "markdown",
   "id": "391253ae",
   "metadata": {},
   "source": [
    "# ioNERDSS Developer's Guide"
   ]
  },
  {
   "cell_type": "markdown",
   "id": "c2e5a2e0",
   "metadata": {},
   "source": [
    "## 1. Sign up on Pypi and Join as Collaborators"
   ]
  },
  {
   "cell_type": "markdown",
   "id": "ca5f5417",
   "metadata": {},
   "source": [
    "For the first-time user, register an account on Pypi (https://pypi.org), search for the ioNERDSS library, and request to join the collaborators of the library. this will usually require authorization from the ioNERDSS library owner."
   ]
  },
  {
   "cell_type": "markdown",
   "id": "ec35ca62",
   "metadata": {},
   "source": [
    "## 2. Update Files for ioNERDSS Library¶"
   ]
  },
  {
   "cell_type": "markdown",
   "id": "5f6abae8",
   "metadata": {},
   "source": [
    "All files of the ioNERDSS library are stored in the io_nerdss repository in Github (https://github.com/mjohn218/io_nerdss) under the 'ioNERDSSLibrary' folder. In order to update ioNERDSS library, three main files will be modified, namely: '__init__.py', 'CHANGELOG.txt' and 'setup.py'."
   ]
  },
  {
   "cell_type": "markdown",
   "id": "6f2c2e54",
   "metadata": {},
   "source": [
    "### 2.1 Modify __init__.py "
   ]
  },
  {
   "cell_type": "markdown",
   "id": "9f60369c",
   "metadata": {},
   "source": [
    "This file is under the path /GitHub/io_nerdss/ioNERDSSLibrary/ioNERDSS/__init__.py, which stores all the functions ioNERDSS include. If more features need to be added or original functions need to be changed, make modifications here. The file should only contain functions but no running codes."
   ]
  },
  {
   "cell_type": "markdown",
   "id": "544a9511",
   "metadata": {},
   "source": [
    "### 2.2 Modify CHANGELOG.txt"
   ]
  },
  {
   "cell_type": "markdown",
   "id": "1dad4a6e",
   "metadata": {},
   "source": [
    "This file is under the path /GitHub/io_nerdss/ioNERDSSLibrary/CHANGELOG.txt, which records the changes that occur with each version update and the corresponding version number. The maintainer needs to record the corresponding change information and version number in a contextual format."
   ]
  },
  {
   "cell_type": "markdown",
   "id": "2c276e4b",
   "metadata": {},
   "source": [
    "### 2.3 Modify setup.py"
   ]
  },
  {
   "cell_type": "markdown",
   "id": "2aee2247",
   "metadata": {},
   "source": [
    "This file is under the path /GitHub/io_nerdss/ioNERDSSLibrary/setup.py. The only change in this file is the version number. The 'version' variable in 'setup' function need to be changed to an updated one."
   ]
  },
  {
   "cell_type": "markdown",
   "id": "9ec4d16e",
   "metadata": {},
   "source": [
    "## 3. Generate Distribution Files"
   ]
  },
  {
   "cell_type": "markdown",
   "id": "9fcd5979",
   "metadata": {},
   "source": [
    "For the first-time user, make sure you have 'setuptools' and 'wheel' installed as the latest version. To do so, run commands below in system command line."
   ]
  },
  {
   "cell_type": "markdown",
   "id": "a39a2e1e",
   "metadata": {},
   "source": [
    "> python3 -m pip install --user --upgrade setuptools wheel"
   ]
  },
  {
   "cell_type": "markdown",
   "id": "a46b5eb8",
   "metadata": {},
   "source": [
    "Before generating, you can run the following command to check 'setup.py' for errors, and if no errors are reported, proceed to the next step."
   ]
  },
  {
   "cell_type": "markdown",
   "id": "dda8f765",
   "metadata": {},
   "source": [
    "> python setup.py check"
   ]
  },
  {
   "cell_type": "markdown",
   "id": "cefc0f2c",
   "metadata": {},
   "source": [
    "Once you the above steps are completed, a library of source code can be packed by using the following system command under the 'ioNERDSSLibrary' folder."
   ]
  },
  {
   "cell_type": "markdown",
   "id": "ffb82208",
   "metadata": {},
   "source": [
    "> python setup.py sdist build"
   ]
  },
  {
   "cell_type": "markdown",
   "id": "695c6929",
   "metadata": {},
   "source": [
    "In the 'dist' folder of the current directory, a 'tar.gz' file will be added."
   ]
  },
  {
   "cell_type": "markdown",
   "id": "203a0d2a",
   "metadata": {},
   "source": [
    "## 4. Update Package to Pypi"
   ]
  },
  {
   "cell_type": "markdown",
   "id": "1f015c90",
   "metadata": {},
   "source": [
    "For the first-time user, 'twine' need to be install first by running command below in the system command line."
   ]
  },
  {
   "cell_type": "markdown",
   "id": "26b5c027",
   "metadata": {},
   "source": [
    "> pip install twine"
   ]
  },
  {
   "cell_type": "markdown",
   "id": "4ab57325",
   "metadata": {},
   "source": [
    "After the installation is complete, run the following command in the system command line under the 'ioNERDSSLibrary' folder to upload the library, during which the user will be asked to enter the registered Pypi username and password."
   ]
  },
  {
   "cell_type": "markdown",
   "id": "5dc4c17d",
   "metadata": {},
   "source": [
    "> twine upload dist/*"
   ]
  },
  {
   "cell_type": "markdown",
   "id": "fe207baf",
   "metadata": {},
   "source": [
    "Once the upload is complete, the new version of the ioNERDSS library is successfully uploaded to Pypi. It can be seen on the Pypi website (https://pypi.org/project/ioNERDSS/) for the final check."
   ]
  },
  {
   "cell_type": "markdown",
   "id": "3538e3d2",
   "metadata": {},
   "source": [
    "After update newest version to Pypi, remember to push latest original files into 'io_nerdss' repository on Github."
   ]
  },
  {
   "cell_type": "code",
   "execution_count": null,
   "id": "191c7e64",
   "metadata": {},
   "outputs": [],
   "source": []
  }
 ],
 "metadata": {
  "kernelspec": {
   "display_name": "Python 3",
   "language": "python",
   "name": "python3"
  },
  "language_info": {
   "codemirror_mode": {
    "name": "ipython",
    "version": 3
   },
   "file_extension": ".py",
   "mimetype": "text/x-python",
   "name": "python",
   "nbconvert_exporter": "python",
   "pygments_lexer": "ipython3",
   "version": "3.8.8"
  }
 },
 "nbformat": 4,
 "nbformat_minor": 5
}
