{
 "cells": [
  {
   "cell_type": "markdown",
   "metadata": {
    "id": "w30Vc8OQjdzo"
   },
   "source": [
    "## Welcome to NERDSS on Google Colab!\n",
    "\n",
    "Upon running, Google Colab will ask you for access to Google Drive. Once mounted, you can access your Google Drive files under the /content/drive/My Drive directory."
   ]
  },
  {
   "cell_type": "markdown",
   "metadata": {
    "id": "iVAymL7HisoI"
   },
   "source": [
    "# 1. Mount Google Drive and Install NERDSS"
   ]
  },
  {
   "cell_type": "code",
   "execution_count": null,
   "metadata": {
    "id": "X-jmmN2z4O2u"
   },
   "outputs": [],
   "source": [
    "'''\n",
    "Author: Yue Moon Ying\n",
    "\n",
    "Note, currently using Public version of NERDSS\n",
    "Be careful that ioNERDSS and NERDSS will be installed and complied in YOUR google drive which takes around 200 MB of space\n",
    "Remember to reduce the iteration number to accomadate computational power on Google colab\n",
    "Be aware there is some latency between uploading files to Google Drive and sync to Mount\n",
    "'''\n",
    "\n",
    "# Mount Google Drive\n",
    "# Accessing Google Drive from a Google Colab notebook\n",
    "\n",
    "from google.colab import drive\n",
    "drive.mount('/content/drive/')\n",
    "\n",
    "# Navigate to Your Drive Files\n",
    "# Google Colab will ask you for access to Google Drive\n",
    "# Once mounted, you can access your Google Drive files under the /content/drive/My Drive directory.\n",
    "\n",
    "# Change to the desired directory\n",
    "import os\n",
    "os.chdir('/content/drive/My Drive')\n",
    "\n",
    "# Pull NERDSS from Github\n",
    "!git clone https://github.com/mjohn218/NERDSS.git\n",
    "\n",
    "# List files in NERDSS folder\n",
    "os.chdir('/content/drive/My Drive/NERDSS')\n",
    "!ls\n",
    "\n",
    "# Verify current working directory\n",
    "print(os.getcwd())"
   ]
  },
  {
   "cell_type": "code",
   "execution_count": null,
   "metadata": {
    "id": "DmwKmXfc93ky"
   },
   "outputs": [],
   "source": [
    "# Check C++ compiler\n",
    "!g++ --version\n",
    "\n",
    "# Install Dependency: GSL\n",
    "!sudo apt install libgsl-dev -y"
   ]
  },
  {
   "cell_type": "markdown",
   "metadata": {
    "id": "nU6AujVhi7K4"
   },
   "source": [
    "# 2. Compile and Run Simulation"
   ]
  },
  {
   "cell_type": "code",
   "execution_count": null,
   "metadata": {
    "id": "RhM4zcal-El1"
   },
   "outputs": [],
   "source": [
    "# Compile\n",
    "# Under free Google Colab this takes est. 12 minutes\n",
    "!make serial -j8"
   ]
  },
  {
   "cell_type": "code",
   "execution_count": null,
   "metadata": {
    "id": "f9O1yhgn_4_T"
   },
   "outputs": [],
   "source": [
    "# cd into sample input directory\n",
    "# currently using unimolecular_reverse\n",
    "os.chdir('/content/drive/My Drive/NERDSS/sample_inputs/VALIDATE_SUITE/unimolecular_reverse')\n",
    "!ls\n",
    "!chmod +x ../../../bin/nerdss"
   ]
  },
  {
   "cell_type": "code",
   "execution_count": null,
   "metadata": {
    "id": "bQ_eiN9uBhNU"
   },
   "outputs": [],
   "source": [
    "!../../../bin/nerdss -f ./uni_reverse.inp"
   ]
  }
 ],
 "metadata": {
  "colab": {
   "provenance": []
  },
  "kernelspec": {
   "display_name": "Python 3 (ipykernel)",
   "language": "python",
   "name": "python3"
  },
  "language_info": {
   "codemirror_mode": {
    "name": "ipython",
    "version": 3
   },
   "file_extension": ".py",
   "mimetype": "text/x-python",
   "name": "python",
   "nbconvert_exporter": "python",
   "pygments_lexer": "ipython3",
   "version": "3.7.0"
  }
 },
 "nbformat": 4,
 "nbformat_minor": 1
}
